{
 "cells": [
  {
   "cell_type": "markdown",
   "metadata": {
    "application/vnd.databricks.v1+cell": {
     "cellMetadata": {},
     "inputWidgets": {},
     "nuid": "760e0d79-e9ed-4089-8e14-0c5bcab4bb21",
     "showTitle": false,
     "tableResultSettingsMap": {},
     "title": ""
    }
   },
   "source": [
    "# LSTM-Based Harmful Meme Text Classification\n",
    "\n",
    "**Implementing Sequential Deep Learning for Text Classification**\n",
    "\n",
    "## Architecture Overview\n",
    "```\n",
    "Meme Text → Tokenization → Pre-trained Embeddings → Bidirectional LSTM → Dense → Binary Classification\n",
    "```\n",
    "\n",
    "## Key Components\n",
    "- **Sequential Processing**: LSTM captures word order dependencies\n",
    "- **Pre-trained Embeddings**: Transfer learning with Word2Vec/GloVe\n",
    "- **Bidirectional Design**: Context from both directions\n",
    "- **Class Imbalance Handling**: Weighted loss function\n",
    "- **Regularization**: Dropout to prevent overfitting"
   ]
  },
  {
   "cell_type": "code",
   "execution_count": 0,
   "metadata": {
    "application/vnd.databricks.v1+cell": {
     "cellMetadata": {
      "byteLimit": 2048000,
      "rowLimit": 10000
     },
     "collapsed": true,
     "inputWidgets": {},
     "nuid": "d821efde-24b1-4f5c-ac28-491985895a6f",
     "showTitle": false,
     "tableResultSettingsMap": {},
     "title": ""
    }
   },
   "outputs": [
    {
     "output_type": "stream",
     "name": "stdout",
     "output_type": "stream",
     "text": [
      "\u001B[31mERROR: pip's dependency resolver does not currently take into account all the packages that are installed. This behaviour is the source of the following dependency conflicts.\ns3fs 2025.7.0 requires fsspec==2025.7.0, but you have fsspec 2025.3.0 which is incompatible.\u001B[0m\u001B[31m\n\u001B[0m\u001B[43mNote: you may need to restart the kernel using %restart_python or dbutils.library.restartPython() to use updated packages.\u001B[0m\n"
     ]
    }
   ],
   "source": [
    "# %pip install -q datasets --upgrade"
   ]
  },
  {
   "cell_type": "code",
   "execution_count": 0,
   "metadata": {
    "application/vnd.databricks.v1+cell": {
     "cellMetadata": {
      "byteLimit": 2048000,
      "rowLimit": 10000
     },
     "inputWidgets": {},
     "nuid": "c4da2a0e-4c15-4e20-a301-0b65fd739239",
     "showTitle": false,
     "tableResultSettingsMap": {},
     "title": ""
    }
   },
   "outputs": [],
   "source": [
    "dbutils.library.restartPython()"
   ]
  },
  {
   "cell_type": "markdown",
   "metadata": {
    "application/vnd.databricks.v1+cell": {
     "cellMetadata": {},
     "inputWidgets": {},
     "nuid": "007ec575-f5bc-4e71-80a5-61786fe614f6",
     "showTitle": false,
     "tableResultSettingsMap": {},
     "title": ""
    }
   },
   "source": [
    "## 1. Import Libraries and Setup"
   ]
  },
  {
   "cell_type": "code",
   "execution_count": 0,
   "metadata": {
    "application/vnd.databricks.v1+cell": {
     "cellMetadata": {
      "byteLimit": 2048000,
      "rowLimit": 10000
     },
     "inputWidgets": {},
     "nuid": "c22e60ce-b363-473b-b7da-5047bfab5a38",
     "showTitle": false,
     "tableResultSettingsMap": {},
     "title": ""
    }
   },
   "outputs": [
    {
     "output_type": "stream",
     "name": "stdout",
     "output_type": "stream",
     "text": [
      "Requirement already satisfied: nltk in /databricks/python3/lib/python3.12/site-packages (3.8.1)\nRequirement already satisfied: click in /databricks/python3/lib/python3.12/site-packages (from nltk) (8.1.7)\nRequirement already satisfied: joblib in /databricks/python3/lib/python3.12/site-packages (from nltk) (1.4.2)\nRequirement already satisfied: regex>=2021.8.3 in /databricks/python3/lib/python3.12/site-packages (from nltk) (2023.10.3)\nRequirement already satisfied: tqdm in /databricks/python3/lib/python3.12/site-packages (from nltk) (4.66.4)\n\u001B[43mNote: you may need to restart the kernel using %restart_python or dbutils.library.restartPython() to use updated packages.\u001B[0m\n"
     ]
    },
    {
     "output_type": "stream",
     "name": "stderr",
     "output_type": "stream",
     "text": [
      "[nltk_data] Downloading package punkt to /root/nltk_data...\n[nltk_data]   Unzipping tokenizers/punkt.zip.\n[nltk_data] Downloading package stopwords to /root/nltk_data...\n[nltk_data]   Unzipping corpora/stopwords.zip.\n[nltk_data] Downloading package wordnet to /root/nltk_data...\n[nltk_data] Downloading package averaged_perceptron_tagger to\n[nltk_data]     /root/nltk_data...\n[nltk_data]   Unzipping taggers/averaged_perceptron_tagger.zip.\n"
     ]
    },
    {
     "output_type": "execute_result",
     "data": {
      "text/plain": [
       "True"
      ]
     },
     "execution_count": 7,
     "metadata": {},
     "output_type": "execute_result"
    }
   ],
   "source": [
    "# # Install NLTK if not available\n",
    "# !pip install nltk\n",
    "\n",
    "# import nltk\n",
    "# import ssl\n",
    "\n",
    "# try:\n",
    "#     _create_unverified_https_context = ssl._create_unverified_context\n",
    "# except AttributeError:\n",
    "#     pass\n",
    "# else:\n",
    "#     ssl._create_default_https_context = _create_unverified_https_context\n",
    "\n",
    "# # Download required NLTK data\n",
    "# nltk.download('punkt')\n",
    "# nltk.download('stopwords')\n",
    "# nltk.download('wordnet')\n",
    "# nltk.download('averaged_perceptron_tagger')\n"
   ]
  },
  {
   "cell_type": "code",
   "execution_count": 0,
   "metadata": {
    "application/vnd.databricks.v1+cell": {
     "cellMetadata": {
      "byteLimit": 2048000,
      "rowLimit": 10000
     },
     "inputWidgets": {},
     "nuid": "d106878f-2ee0-48f8-b655-c3ea1c2fea4a",
     "showTitle": false,
     "tableResultSettingsMap": {},
     "title": ""
    }
   },
   "outputs": [
    {
     "output_type": "stream",
     "name": "stdout",
     "output_type": "stream",
     "text": [
      "Using device: cuda\nGPU: Tesla T4\nMemory: 14.6 GB\n"
     ]
    }
   ],
   "source": [
    "\n",
    "# Core libraries\n",
    "import pandas as pd\n",
    "import numpy as np\n",
    "import matplotlib.pyplot as plt\n",
    "import seaborn as sns\n",
    "from sklearn.model_selection import train_test_split\n",
    "from sklearn.metrics import classification_report, confusion_matrix, roc_auc_score\n",
    "import warnings\n",
    "warnings.filterwarnings('ignore')\n",
    "\n",
    "#NLTK packs\n",
    "import nltk\n",
    "from nltk.tokenize import word_tokenize, TweetTokenizer\n",
    "from nltk.corpus import stopwords\n",
    "from nltk.stem import WordNetLemmatizer, PorterStemmer\n",
    "from nltk.tag import pos_tag\n",
    "\n",
    "\n",
    "# PyTorch for deep learning\n",
    "import torch\n",
    "import torch.nn as nn\n",
    "import torch.optim as optim\n",
    "from torch.utils.data import Dataset, DataLoader, WeightedRandomSampler\n",
    "import torch.nn.functional as F\n",
    "\n",
    "# Text processing\n",
    "import re\n",
    "from collections import Counter, defaultdict\n",
    "from datasets import load_dataset\n",
    "\n",
    "# Set random seeds for reproducibility\n",
    "torch.manual_seed(42)\n",
    "np.random.seed(42)\n",
    "\n",
    "# Check GPU availability\n",
    "device = torch.device('cuda' if torch.cuda.is_available() else 'cpu')\n",
    "print(f\"Using device: {device}\")\n",
    "if torch.cuda.is_available():\n",
    "    print(f\"GPU: {torch.cuda.get_device_name(0)}\")\n",
    "    print(f\"Memory: {torch.cuda.get_device_properties(0).total_memory / 1024**3:.1f} GB\")"
   ]
  },
  {
   "cell_type": "markdown",
   "metadata": {
    "application/vnd.databricks.v1+cell": {
     "cellMetadata": {},
     "inputWidgets": {},
     "nuid": "4f76c411-9959-4a73-8271-abc3a5049b55",
     "showTitle": false,
     "tableResultSettingsMap": {},
     "title": ""
    }
   },
   "source": [
    "## 2. Load and Extract Dataset"
   ]
  },
  {
   "cell_type": "code",
   "execution_count": 0,
   "metadata": {
    "application/vnd.databricks.v1+cell": {
     "cellMetadata": {
      "byteLimit": 2048000,
      "rowLimit": 10000
     },
     "inputWidgets": {},
     "nuid": "677c25cb-b178-4e42-a954-af9160cb40fb",
     "showTitle": false,
     "tableResultSettingsMap": {},
     "title": ""
    }
   },
   "outputs": [
    {
     "output_type": "stream",
     "name": "stdout",
     "output_type": "stream",
     "text": [
      "Loading Facebook Harmeme dataset...\n✅ Training samples: 8500\n✅ Test samples: 500\n✅ Class distribution: Counter({0: 5450, 1: 3050})\n"
     ]
    }
   ],
   "source": [
    "def extract_meme_data(conversations_series):\n",
    "    \"\"\"\n",
    "    Extract meme text and labels from conversation format\n",
    "    Returns clean text and binary labels\n",
    "    \"\"\"\n",
    "    meme_texts = []\n",
    "    labels = []\n",
    "    \n",
    "    for conv in conversations_series:\n",
    "        try:\n",
    "            # Handle numpy array conversion\n",
    "            if isinstance(conv, np.ndarray):\n",
    "                conv = conv.tolist()\n",
    "            \n",
    "            # Extract human message and GPT response\n",
    "            human_msg = None\n",
    "            gpt_response = None\n",
    "            \n",
    "            for turn in conv:\n",
    "                if turn['from'] == 'human':\n",
    "                    human_msg = turn['value']\n",
    "                elif turn['from'] == 'gpt':\n",
    "                    gpt_response = turn['value']\n",
    "            \n",
    "            # Extract meme text using regex\n",
    "            meme_text = None\n",
    "            if human_msg:\n",
    "                # Look for pattern: \"The text in the meme is: [TEXT]\"\n",
    "                pattern = r\"The text in the meme is: (.+?)\\n\"\n",
    "                match = re.search(pattern, human_msg, re.DOTALL)\n",
    "                if match:\n",
    "                    meme_text = match.group(1).strip()\n",
    "            \n",
    "            # Extract binary label\n",
    "            label = None\n",
    "            if gpt_response:\n",
    "                if gpt_response.strip().lower() == 'yes':\n",
    "                    label = 1  # Harmful\n",
    "                elif gpt_response.strip().lower() == 'no':\n",
    "                    label = 0  # Not harmful\n",
    "            \n",
    "            meme_texts.append(meme_text)\n",
    "            labels.append(label)\n",
    "            \n",
    "        except Exception as e:\n",
    "            print(f\"Error processing conversation: {e}\")\n",
    "            meme_texts.append(None)\n",
    "            labels.append(None)\n",
    "    \n",
    "    return meme_texts, labels\n",
    "\n",
    "# Load dataset\n",
    "print(\"Loading Facebook Harmeme dataset...\")\n",
    "ds = load_dataset(\"George511242/Facebook_harmeme_dataset\")\n",
    "\n",
    "# Extract training and test data\n",
    "train_texts, train_labels = extract_meme_data(ds['train']['conversations'])\n",
    "test_texts, test_labels = extract_meme_data(ds['test']['conversations'])\n",
    "\n",
    "# Clean data - remove None values\n",
    "train_data = [(text, label) for text, label in zip(train_texts, train_labels) \n",
    "              if text is not None and label is not None]\n",
    "test_data = [(text, label) for text, label in zip(test_texts, test_labels) \n",
    "             if text is not None and label is not None]\n",
    "\n",
    "train_texts, train_labels = zip(*train_data)\n",
    "test_texts, test_labels = zip(*test_data)\n",
    "\n",
    "print(f\"✅ Training samples: {len(train_texts)}\")\n",
    "print(f\"✅ Test samples: {len(test_texts)}\")\n",
    "print(f\"✅ Class distribution: {Counter(train_labels)}\")"
   ]
  },
  {
   "cell_type": "markdown",
   "metadata": {
    "application/vnd.databricks.v1+cell": {
     "cellMetadata": {},
     "inputWidgets": {},
     "nuid": "54fdf84e-90c1-492f-a113-83f5fa7b45e1",
     "showTitle": false,
     "tableResultSettingsMap": {},
     "title": ""
    }
   },
   "source": [
    "## 3. Text Preprocessing Pipeline"
   ]
  },
  {
   "cell_type": "code",
   "execution_count": 0,
   "metadata": {
    "application/vnd.databricks.v1+cell": {
     "cellMetadata": {
      "byteLimit": 2048000,
      "rowLimit": 10000
     },
     "inputWidgets": {},
     "nuid": "851fde80-c810-4261-a719-b4003a788fd6",
     "showTitle": false,
     "tableResultSettingsMap": {},
     "title": ""
    }
   },
   "outputs": [],
   "source": [
    "class ImprovedTextPreprocessor:\n",
    "    \"\"\"\n",
    "    Professional-grade text preprocessing using NLTK\n",
    "    Optimized for harmful content detection in social media text\n",
    "    \"\"\"\n",
    "    \n",
    "    def __init__(self, max_vocab_size=10000, max_seq_length=25, min_word_freq=2,\n",
    "                 use_stopwords=False, use_stemming=False, use_lemmatization=True):\n",
    "        \n",
    "        # Configuration\n",
    "        self.max_vocab_size = max_vocab_size\n",
    "        self.max_seq_length = max_seq_length\n",
    "        self.min_word_freq = min_word_freq\n",
    "        self.use_stopwords = use_stopwords  # Keep stopwords for harmful content context\n",
    "        self.use_stemming = use_stemming\n",
    "        self.use_lemmatization = use_lemmatization\n",
    "        \n",
    "        # Special tokens\n",
    "        self.PAD_TOKEN = '<PAD>'\n",
    "        self.UNK_TOKEN = '<UNK>'\n",
    "        \n",
    "        # NLTK components\n",
    "        self.tokenizer = TweetTokenizer(preserve_case=False, reduce_len=True, strip_handles=False)\n",
    "        self.stopwords = set(stopwords.words('english')) if use_stopwords else set()\n",
    "        self.lemmatizer = WordNetLemmatizer() if use_lemmatization else None\n",
    "        self.stemmer = PorterStemmer() if use_stemming else None\n",
    "        \n",
    "        # Vocabularies\n",
    "        self.word2idx = {}\n",
    "        self.idx2word = {}\n",
    "        self.vocab_size = 0\n",
    "        \n",
    "        print(f\"✅ Enhanced preprocessor initialized:\")\n",
    "        print(f\"   • Tokenizer: NLTK TweetTokenizer (social media optimized)\")\n",
    "        print(f\"   • Stopwords: {'Enabled' if use_stopwords else 'Disabled (keeping for context)'}\")\n",
    "        print(f\"   • Stemming: {'Enabled' if use_stemming else 'Disabled'}\")\n",
    "        print(f\"   • Lemmatization: {'Enabled' if use_lemmatization else 'Disabled'}\")\n",
    "    \n",
    "    def get_wordnet_pos(self, treebank_tag):\n",
    "        \"\"\"Convert treebank POS tags to WordNet POS tags for lemmatization\"\"\"\n",
    "        if treebank_tag.startswith('J'):\n",
    "            return nltk.corpus.wordnet.ADJ\n",
    "        elif treebank_tag.startswith('V'):\n",
    "            return nltk.corpus.wordnet.VERB\n",
    "        elif treebank_tag.startswith('N'):\n",
    "            return nltk.corpus.wordnet.NOUN\n",
    "        elif treebank_tag.startswith('R'):\n",
    "            return nltk.corpus.wordnet.ADV\n",
    "        else:\n",
    "            return nltk.corpus.wordnet.NOUN  # Default to noun\n",
    "    \n",
    "    def clean_text(self, text):\n",
    "        \"\"\"\n",
    "        Advanced text cleaning for harmful content detection\n",
    "        Preserves important patterns while normalizing\n",
    "        \"\"\"\n",
    "        if not isinstance(text, str):\n",
    "            return \"\"\n",
    "        \n",
    "        # Convert to lowercase\n",
    "        text = text.lower().strip()\n",
    "        \n",
    "        # Handle contractions more sophisticatedly\n",
    "        contractions = {\n",
    "            \"n't\": \" not\", \"'re\": \" are\", \"'ve\": \" have\", \"'ll\": \" will\",\n",
    "            \"'d\": \" would\", \"'m\": \" am\", \"won't\": \"will not\",\n",
    "            \"can't\": \"cannot\", \"shouldn't\": \"should not\"\n",
    "        }\n",
    "        \n",
    "        for contraction, expansion in contractions.items():\n",
    "            text = text.replace(contraction, expansion)\n",
    "        \n",
    "        # Normalize repeated characters (e.g., \"sooooo\" -> \"soo\")\n",
    "        text = re.sub(r'(.)\\1{2,}', r'\\1\\1', text)\n",
    "        \n",
    "        # Handle URLs and mentions (mark but don't remove - might be context)\n",
    "        text = re.sub(r'http[s]?://\\S+', ' <URL> ', text)\n",
    "        text = re.sub(r'@\\w+', ' <MENTION> ', text)\n",
    "        text = re.sub(r'#(\\w+)', r' <HASHTAG> \\1 ', text)\n",
    "        \n",
    "        # Remove excessive whitespace\n",
    "        text = re.sub(r'\\s+', ' ', text)\n",
    "        \n",
    "        return text.strip()\n",
    "    \n",
    "    def tokenize_and_process(self, text):\n",
    "        \"\"\"\n",
    "        Tokenize and process text using NLTK tools\n",
    "        \"\"\"\n",
    "        # Clean text first\n",
    "        cleaned_text = self.clean_text(text)\n",
    "        \n",
    "        # Tokenize using TweetTokenizer (handles social media text better)\n",
    "        tokens = self.tokenizer.tokenize(cleaned_text)\n",
    "        \n",
    "        # Filter out very short tokens and pure punctuation\n",
    "        tokens = [token for token in tokens if len(token) > 1 and not token.isspace()]\n",
    "        \n",
    "        # Remove stopwords if enabled (usually disabled for harmful content)\n",
    "        if self.use_stopwords:\n",
    "            tokens = [token for token in tokens if token.lower() not in self.stopwords]\n",
    "        \n",
    "        # Apply stemming or lemmatization\n",
    "        if self.use_lemmatization and self.lemmatizer:\n",
    "            # Get POS tags for better lemmatization\n",
    "            pos_tags = pos_tag(tokens)\n",
    "            tokens = [self.lemmatizer.lemmatize(token, pos=self.get_wordnet_pos(pos)) \n",
    "                     for token, pos in pos_tags]\n",
    "        elif self.use_stemming and self.stemmer:\n",
    "            tokens = [self.stemmer.stem(token) for token in tokens]\n",
    "        \n",
    "        return tokens\n",
    "    \n",
    "    def build_vocabulary(self, texts):\n",
    "        \"\"\"\n",
    "        Build vocabulary from training texts using NLTK processing\n",
    "        \"\"\"\n",
    "        print(\"Building vocabulary with NLTK preprocessing...\")\n",
    "        \n",
    "        # Count word frequencies\n",
    "        word_freq = Counter()\n",
    "        processed_samples = []\n",
    "        \n",
    "        for i, text in enumerate(texts):\n",
    "            if i % 1000 == 0:\n",
    "                print(f\"  Processing: {i}/{len(texts)}\")\n",
    "            \n",
    "            tokens = self.tokenize_and_process(text)\n",
    "            word_freq.update(tokens)\n",
    "            processed_samples.append(tokens)\n",
    "        \n",
    "        print(f\"✅ Processed {len(texts)} texts\")\n",
    "        print(f\"Total unique words: {len(word_freq)}\")\n",
    "        \n",
    "        # Show most common words for insight\n",
    "        print(f\"\\nMost common words:\")\n",
    "        for word, freq in word_freq.most_common(15):\n",
    "            print(f\"  '{word}': {freq}\")\n",
    "        \n",
    "        # Filter by frequency and limit vocabulary size\n",
    "        vocab_words = [word for word, freq in word_freq.most_common() \n",
    "                      if freq >= self.min_word_freq]\n",
    "        vocab_words = vocab_words[:self.max_vocab_size - 2]  # Reserve space for special tokens\n",
    "        \n",
    "        # Build word2idx mapping\n",
    "        self.word2idx = {\n",
    "            self.PAD_TOKEN: 0,\n",
    "            self.UNK_TOKEN: 1\n",
    "        }\n",
    "        \n",
    "        for i, word in enumerate(vocab_words, 2):\n",
    "            self.word2idx[word] = i\n",
    "        \n",
    "        # Build idx2word mapping\n",
    "        self.idx2word = {idx: word for word, idx in self.word2idx.items()}\n",
    "        self.vocab_size = len(self.word2idx)\n",
    "        \n",
    "        print(f\"\\n✅ Final vocabulary size: {self.vocab_size}\")\n",
    "        print(f\"Coverage: {len(vocab_words)}/{len(word_freq)} words ({len(vocab_words)/len(word_freq)*100:.1f}%)\")\n",
    "        \n",
    "        # Show some example processed texts\n",
    "        print(f\"\\nExample processed texts:\")\n",
    "        for i in range(min(3, len(processed_samples))):\n",
    "            original = texts[i][:100] + \"...\" if len(texts[i]) > 100 else texts[i]\n",
    "            processed = \" \".join(processed_samples[i])\n",
    "            print(f\"\\n{i+1}. Original: '{original}'\")\n",
    "            print(f\"   Processed: '{processed}'\")\n",
    "        \n",
    "        return self\n",
    "    \n",
    "    def text_to_sequence(self, text):\n",
    "        \"\"\"Convert text to sequence of token indices\"\"\"\n",
    "        tokens = self.tokenize_and_process(text)\n",
    "        sequence = [self.word2idx.get(token, self.word2idx[self.UNK_TOKEN]) for token in tokens]\n",
    "        return sequence\n",
    "    \n",
    "    def pad_sequences(self, sequences):\n",
    "        \"\"\"Pad sequences to fixed length\"\"\"\n",
    "        padded = []\n",
    "        for seq in sequences:\n",
    "            if len(seq) >= self.max_seq_length:\n",
    "                padded.append(seq[:self.max_seq_length])\n",
    "            else:\n",
    "                padded.append(seq + [self.word2idx[self.PAD_TOKEN]] * (self.max_seq_length - len(seq)))\n",
    "        return np.array(padded)\n",
    "    \n",
    "    def preprocess_texts(self, texts):\n",
    "        \"\"\"Complete preprocessing pipeline\"\"\"\n",
    "        sequences = [self.text_to_sequence(text) for text in texts]\n",
    "        return self.pad_sequences(sequences)\n",
    "    \n",
    "    def analyze_preprocessing_impact(self, texts, n_samples=100):\n",
    "        \"\"\"Analyze the impact of preprocessing choices\"\"\"\n",
    "        print(\"=\"*60)\n",
    "        print(\"PREPROCESSING IMPACT ANALYSIS\")\n",
    "        print(\"=\"*60)\n",
    "        \n",
    "        sample_texts = texts[:n_samples]\n",
    "        \n",
    "        # Compare different preprocessing approaches\n",
    "        simple_lengths = []\n",
    "        enhanced_lengths = []\n",
    "        \n",
    "        for text in sample_texts:\n",
    "            # Simple approach\n",
    "            simple_tokens = text.lower().split()\n",
    "            simple_lengths.append(len(simple_tokens))\n",
    "            \n",
    "            # Enhanced approach\n",
    "            enhanced_tokens = self.tokenize_and_process(text)\n",
    "            enhanced_lengths.append(len(enhanced_tokens))\n",
    "        \n",
    "        print(f\"Token count comparison (sample of {n_samples}):\")\n",
    "        print(f\"  Simple tokenization - Mean: {np.mean(simple_lengths):.1f}, Std: {np.std(simple_lengths):.1f}\")\n",
    "        print(f\"  Enhanced tokenization - Mean: {np.mean(enhanced_lengths):.1f}, Std: {np.std(enhanced_lengths):.1f}\")\n",
    "        \n",
    "        # Show examples of preprocessing differences\n",
    "        print(f\"\\nPreprocessing examples:\")\n",
    "        for i in range(min(3, len(sample_texts))):\n",
    "            text = sample_texts[i]\n",
    "            simple = text.lower().split()\n",
    "            enhanced = self.tokenize_and_process(text)\n",
    "            \n",
    "            print(f\"\\n{i+1}. Original: '{text}'\")\n",
    "            print(f\"   Simple: {simple}\")\n",
    "            print(f\"   Enhanced: {enhanced}\")"
   ]
  },
  {
   "cell_type": "markdown",
   "metadata": {
    "application/vnd.databricks.v1+cell": {
     "cellMetadata": {
      "byteLimit": 2048000,
      "rowLimit": 10000
     },
     "inputWidgets": {},
     "nuid": "5b593b93-a9a2-4451-b181-65915c1b23b1",
     "showTitle": false,
     "tableResultSettingsMap": {},
     "title": ""
    }
   },
   "source": [
    "## Initialize Improved Text Preprocessor\n",
    "## & Build Vocabulary\n"
   ]
  },
  {
   "cell_type": "code",
   "execution_count": 0,
   "metadata": {
    "application/vnd.databricks.v1+cell": {
     "cellMetadata": {
      "byteLimit": 2048000,
      "rowLimit": 10000
     },
     "inputWidgets": {},
     "nuid": "95c75491-fc01-44ae-bde7-71ad97e03681",
     "showTitle": false,
     "tableResultSettingsMap": {},
     "title": ""
    }
   },
   "outputs": [
    {
     "output_type": "stream",
     "name": "stdout",
     "output_type": "stream",
     "text": [
      "✅ Enhanced preprocessor initialized:\n   • Tokenizer: NLTK TweetTokenizer (social media optimized)\n   • Stopwords: Disabled (keeping for context)\n   • Stemming: Disabled\n   • Lemmatization: Enabled\n============================================================\nPREPROCESSING IMPACT ANALYSIS\n============================================================\nToken count comparison (sample of 200):\n  Simple tokenization - Mean: 11.2, Std: 6.6\n  Enhanced tokenization - Mean: 10.8, Std: 6.3\n\nPreprocessing examples:\n\n1. Original: 'when you're feeling horny asf but your habibi is on periods let's try a goat.'\n   Simple: ['when', \"you're\", 'feeling', 'horny', 'asf', 'but', 'your', 'habibi', 'is', 'on', 'periods', \"let's\", 'try', 'a', 'goat.']\n   Enhanced: ['when', 'you', 'be', 'feel', 'horny', 'asf', 'but', 'your', 'habibi', 'be', 'on', 'period', \"let's\", 'try', 'goat']\n\n2. Original: 'meanwhile at the isis strip club.'\n   Simple: ['meanwhile', 'at', 'the', 'isis', 'strip', 'club.']\n   Enhanced: ['meanwhile', 'at', 'the', 'isi', 'strip', 'club']\n\n3. Original: 'when your human says \"who' s a good girl?\" and you already know it's you.'\n   Simple: ['when', 'your', 'human', 'says', '\"who\\'', 's', 'a', 'good', 'girl?\"', 'and', 'you', 'already', 'know', \"it's\", 'you.']\n   Enhanced: ['when', 'your', 'human', 'say', 'who', 'good', 'girl', 'and', 'you', 'already', 'know', \"it's\", 'you']\nBuilding vocabulary with NLTK preprocessing...\n  Processing: 0/8500\n  Processing: 1000/8500\n  Processing: 2000/8500\n  Processing: 3000/8500\n  Processing: 4000/8500\n  Processing: 5000/8500\n  Processing: 6000/8500\n  Processing: 7000/8500\n  Processing: 8000/8500\n✅ Processed 8500 texts\nTotal unique words: 7529\n\nMost common words:\n  'be': 4204\n  'you': 3171\n  'the': 3131\n  'to': 2212\n  'and': 1488\n  'not': 1450\n  'when': 1378\n  'do': 1263\n  'in': 1212\n  'of': 1195\n  'your': 1104\n  'have': 969\n  'it': 911\n  'my': 888\n  'for': 852\n\n✅ Final vocabulary size: 4175\nCoverage: 4173/7529 words (55.4%)\n\nExample processed texts:\n\n1. Original: 'when you're feeling horny asf but your habibi is on periods let's try a goat.'\n   Processed: 'when you be feel horny asf but your habibi be on period let's try goat'\n\n2. Original: 'meanwhile at the isis strip club.'\n   Processed: 'meanwhile at the isi strip club'\n\n3. Original: 'when your human says \"who' s a good girl?\" and you already know it's you.'\n   Processed: 'when your human say who good girl and you already know it's you'\n"
     ]
    },
    {
     "output_type": "execute_result",
     "data": {
      "text/plain": [
       "<__main__.ImprovedTextPreprocessor at 0x7fd464ae5af0>"
      ]
     },
     "execution_count": 458,
     "metadata": {},
     "output_type": "execute_result"
    }
   ],
   "source": [
    "# # Replace your old preprocessor initialization with:\n",
    "# preprocessor = ImprovedTextPreprocessor(\n",
    "#     max_vocab_size=10000,\n",
    "#     max_seq_length=25,\n",
    "#     min_word_freq=2,\n",
    "#     use_stopwords=False,      # Keep context for harmful detection\n",
    "#     use_stemming=False,       \n",
    "#     use_lemmatization=True    # Better semantic understanding\n",
    "# )\n",
    "\n",
    "# # Analyze preprocessing impact first\n",
    "# preprocessor.analyze_preprocessing_impact(train_texts, n_samples=200)\n",
    "\n",
    "\n",
    "# #Build Enhanced Vocabulary\n",
    "\n",
    "\n",
    "# # Build vocabulary with enhanced preprocessing\n",
    "# preprocessor.build_vocabulary(train_texts)"
   ]
  },
  {
   "cell_type": "code",
   "execution_count": 0,
   "metadata": {
    "application/vnd.databricks.v1+cell": {
     "cellMetadata": {
      "byteLimit": 2048000,
      "rowLimit": 10000
     },
     "inputWidgets": {},
     "nuid": "d0f99b40-2dc8-4908-9158-26e232f6f374",
     "showTitle": false,
     "tableResultSettingsMap": {},
     "title": ""
    }
   },
   "outputs": [
    {
     "output_type": "stream",
     "name": "stdout",
     "output_type": "stream",
     "text": [
      "✅ Enhanced preprocessor initialized:\n   • Tokenizer: NLTK TweetTokenizer (social media optimized)\n   • Stopwords: Disabled (keeping for context)\n   • Stemming: Disabled\n   • Lemmatization: Enabled\n============================================================\nPREPROCESSING IMPACT ANALYSIS\n============================================================\nToken count comparison (sample of 200):\n  Simple tokenization - Mean: 11.2, Std: 6.6\n  Enhanced tokenization - Mean: 10.8, Std: 6.3\n\nPreprocessing examples:\n\n1. Original: 'when you're feeling horny asf but your habibi is on periods let's try a goat.'\n   Simple: ['when', \"you're\", 'feeling', 'horny', 'asf', 'but', 'your', 'habibi', 'is', 'on', 'periods', \"let's\", 'try', 'a', 'goat.']\n   Enhanced: ['when', 'you', 'be', 'feel', 'horny', 'asf', 'but', 'your', 'habibi', 'be', 'on', 'period', \"let's\", 'try', 'goat']\n\n2. Original: 'meanwhile at the isis strip club.'\n   Simple: ['meanwhile', 'at', 'the', 'isis', 'strip', 'club.']\n   Enhanced: ['meanwhile', 'at', 'the', 'isi', 'strip', 'club']\n\n3. Original: 'when your human says \"who' s a good girl?\" and you already know it's you.'\n   Simple: ['when', 'your', 'human', 'says', '\"who\\'', 's', 'a', 'good', 'girl?\"', 'and', 'you', 'already', 'know', \"it's\", 'you.']\n   Enhanced: ['when', 'your', 'human', 'say', 'who', 'good', 'girl', 'and', 'you', 'already', 'know', \"it's\", 'you']\nBuilding vocabulary with NLTK preprocessing...\n  Processing: 0/8500\n  Processing: 1000/8500\n  Processing: 2000/8500\n  Processing: 3000/8500\n  Processing: 4000/8500\n  Processing: 5000/8500\n  Processing: 6000/8500\n  Processing: 7000/8500\n  Processing: 8000/8500\n✅ Processed 8500 texts\nTotal unique words: 7529\n\nMost common words:\n  'be': 4204\n  'you': 3171\n  'the': 3131\n  'to': 2212\n  'and': 1488\n  'not': 1450\n  'when': 1378\n  'do': 1263\n  'in': 1212\n  'of': 1195\n  'your': 1104\n  'have': 969\n  'it': 911\n  'my': 888\n  'for': 852\n\n✅ Final vocabulary size: 7531\nCoverage: 7529/7529 words (100.0%)\n\nExample processed texts:\n\n1. Original: 'when you're feeling horny asf but your habibi is on periods let's try a goat.'\n   Processed: 'when you be feel horny asf but your habibi be on period let's try goat'\n\n2. Original: 'meanwhile at the isis strip club.'\n   Processed: 'meanwhile at the isi strip club'\n\n3. Original: 'when your human says \"who' s a good girl?\" and you already know it's you.'\n   Processed: 'when your human say who good girl and you already know it's you'\n"
     ]
    },
    {
     "output_type": "execute_result",
     "data": {
      "text/plain": [
       "<__main__.ImprovedTextPreprocessor at 0x7fd4649b5af0>"
      ]
     },
     "execution_count": 839,
     "metadata": {},
     "output_type": "execute_result"
    }
   ],
   "source": [
    "preprocessor = ImprovedTextPreprocessor(\n",
    "    max_vocab_size=15000,     # Increased from 10000 - capture more harmful patterns\n",
    "    max_seq_length=35,        # Increased from 25 - you had max 69 tokens\n",
    "    min_word_freq=1,          # Reduced from 2 - keep rare harmful words\n",
    "    use_stopwords=False,      # Keep - stopwords matter for context\n",
    "    use_stemming=False,       \n",
    "    use_lemmatization=True    # Keep - good for semantic understanding\n",
    ")\n",
    "\n",
    "\n",
    "# Analyze preprocessing impact first\n",
    "preprocessor.analyze_preprocessing_impact(train_texts, n_samples=200)\n",
    "\n",
    "\n",
    "#Build Enhanced Vocabulary\n",
    "\n",
    "\n",
    "# Build vocabulary with enhanced preprocessing\n",
    "preprocessor.build_vocabulary(train_texts)"
   ]
  },
  {
   "cell_type": "markdown",
   "metadata": {
    "application/vnd.databricks.v1+cell": {
     "cellMetadata": {
      "byteLimit": 2048000,
      "rowLimit": 10000
     },
     "inputWidgets": {},
     "nuid": "50ebbcfb-2aa2-4b8d-9384-292519f30f9a",
     "showTitle": false,
     "tableResultSettingsMap": {},
     "title": ""
    }
   },
   "source": [
    "## 4. Dataset Analysis & Sequence Preparation"
   ]
  },
  {
   "cell_type": "code",
   "execution_count": 0,
   "metadata": {
    "application/vnd.databricks.v1+cell": {
     "cellMetadata": {
      "byteLimit": 2048000,
      "rowLimit": 10000
     },
     "inputWidgets": {},
     "nuid": "5776c175-8c08-4f82-b161-2b7075e0b1df",
     "showTitle": false,
     "tableResultSettingsMap": {},
     "title": ""
    }
   },
   "outputs": [
    {
     "output_type": "stream",
     "name": "stdout",
     "output_type": "stream",
     "text": [
      "Available methods in your preprocessor:\n['PAD_TOKEN', 'UNK_TOKEN', 'analyze_preprocessing_impact', 'build_vocabulary', 'clean_text', 'get_wordnet_pos', 'idx2word', 'lemmatizer', 'max_seq_length', 'max_vocab_size', 'min_word_freq', 'pad_sequences', 'preprocess_texts', 'stemmer', 'stopwords', 'text_to_sequence', 'tokenize_and_process', 'tokenizer', 'use_lemmatization', 'use_stemming', 'use_stopwords', 'vocab_size', 'word2idx']\n"
     ]
    }
   ],
   "source": [
    "print(\"Available methods in your preprocessor:\")\n",
    "print([method for method in dir(preprocessor) if not method.startswith('_')])"
   ]
  },
  {
   "cell_type": "code",
   "execution_count": 0,
   "metadata": {
    "application/vnd.databricks.v1+cell": {
     "cellMetadata": {
      "byteLimit": 2048000,
      "rowLimit": 10000
     },
     "inputWidgets": {},
     "nuid": "44648e56-c3c5-4705-8623-c294b00f03b3",
     "showTitle": false,
     "tableResultSettingsMap": {},
     "title": ""
    }
   },
   "outputs": [
    {
     "output_type": "stream",
     "name": "stdout",
     "output_type": "stream",
     "text": [
      "==================================================\nSEQUENCE LENGTH ANALYSIS\n==================================================\nSequence length statistics:\n  Mean: 11.3\n  Median: 10.0\n  95th percentile: 24.0\n  Max: 69\n"
     ]
    },
    {
     "output_type": "display_data",
     "data": {
      "image/png": "[encoded data removed]",
      "text/plain": [
       "<Figure size 1200x400 with 2 Axes>"
      ]
     },
     "metadata": {},
     "output_type": "display_data"
    },
    {
     "output_type": "stream",
     "name": "stdout",
     "output_type": "stream",
     "text": [
      "\nProcessing sequences...\n✅ Training sequences shape: (8500, 35)\n✅ Test sequences shape: (500, 35)\n"
     ]
    }
   ],
   "source": [
    "# Analyze sequence lengths before padding\n",
    "print(\"=\"*50)\n",
    "print(\"SEQUENCE LENGTH ANALYSIS\")\n",
    "print(\"=\"*50)\n",
    "\n",
    "train_lengths = []\n",
    "for text in train_texts[:1000]:  # Sample for analysis\n",
    "    cleaned = preprocessor.clean_text(text)\n",
    "    tokens = preprocessor.tokenize_and_process(cleaned)\n",
    "    train_lengths.append(len(tokens))\n",
    "\n",
    "print(f\"Sequence length statistics:\")\n",
    "print(f\"  Mean: {np.mean(train_lengths):.1f}\")\n",
    "print(f\"  Median: {np.median(train_lengths):.1f}\")\n",
    "print(f\"  95th percentile: {np.percentile(train_lengths, 95):.1f}\")\n",
    "print(f\"  Max: {max(train_lengths)}\")\n",
    "\n",
    "# Visualize sequence length distribution\n",
    "plt.figure(figsize=(12, 4))\n",
    "\n",
    "plt.subplot(1, 2, 1)\n",
    "plt.hist(train_lengths, bins=30, alpha=0.7)\n",
    "plt.axvline(preprocessor.max_seq_length, color='red', linestyle='--', \n",
    "            label=f'Max seq length: {preprocessor.max_seq_length}')\n",
    "plt.title('Sequence Length Distribution')\n",
    "plt.xlabel('Number of tokens')\n",
    "plt.ylabel('Frequency')\n",
    "plt.legend()\n",
    "\n",
    "plt.subplot(1, 2, 2)\n",
    "coverage = [sum(1 for l in train_lengths if l <= max_len) / len(train_lengths) * 100 \n",
    "           for max_len in range(1, 51)]\n",
    "plt.plot(range(1, 51), coverage)\n",
    "plt.axvline(preprocessor.max_seq_length, color='red', linestyle='--')\n",
    "plt.title('Sequence Length Coverage')\n",
    "plt.xlabel('Max sequence length')\n",
    "plt.ylabel('Coverage (%)')\n",
    "plt.grid(True)\n",
    "\n",
    "plt.tight_layout()\n",
    "plt.show()\n",
    "\n",
    "# Process all data\n",
    "print(f\"\\nProcessing sequences...\")\n",
    "X_train = preprocessor.preprocess_texts(train_texts)\n",
    "X_test = preprocessor.preprocess_texts(test_texts)\n",
    "y_train = np.array(train_labels)\n",
    "y_test = np.array(test_labels)\n",
    "\n",
    "print(f\"✅ Training sequences shape: {X_train.shape}\")\n",
    "print(f\"✅ Test sequences shape: {X_test.shape}\")"
   ]
  },
  {
   "cell_type": "markdown",
   "metadata": {
    "application/vnd.databricks.v1+cell": {
     "cellMetadata": {
      "byteLimit": 2048000,
      "rowLimit": 10000
     },
     "inputWidgets": {},
     "nuid": "12797f31-f78c-4817-854e-228382829894",
     "showTitle": false,
     "tableResultSettingsMap": {},
     "title": ""
    }
   },
   "source": [
    "## 5. Create Train/Validation Split with Class Balance"
   ]
  },
  {
   "cell_type": "code",
   "execution_count": 0,
   "metadata": {
    "application/vnd.databricks.v1+cell": {
     "cellMetadata": {
      "byteLimit": 2048000,
      "rowLimit": 10000
     },
     "inputWidgets": {},
     "nuid": "fcd87e35-bb23-4fa3-87bd-fddaed26e901",
     "showTitle": false,
     "tableResultSettingsMap": {},
     "title": ""
    }
   },
   "outputs": [
    {
     "output_type": "stream",
     "name": "stdout",
     "output_type": "stream",
     "text": [
      "Dataset splits:\n  Training: 6375 samples\n  Validation: 2125 samples\n  Test: 500 samples\n\nClass distribution:\n  Training: Counter({0: 4088, 1: 2287})\n  Validation: Counter({0: 1362, 1: 763})\n  Test: Counter({0: 250, 1: 250})\n\nClass weights for balanced training:\n  Class 0 (Not Harmful): 0.780\n  Class 1 (Harmful): 1.394\n"
     ]
    }
   ],
   "source": [
    "# Split training data into train/validation\n",
    "X_train_split, X_val, y_train_split, y_val = train_test_split(\n",
    "    X_train, y_train, test_size=0.25, random_state=42, stratify=y_train\n",
    ")\n",
    "\n",
    "print(f\"Dataset splits:\")\n",
    "print(f\"  Training: {X_train_split.shape[0]} samples\")\n",
    "print(f\"  Validation: {X_val.shape[0]} samples\") \n",
    "print(f\"  Test: {X_test.shape[0]} samples\")\n",
    "\n",
    "# Analyze class distribution\n",
    "print(f\"\\nClass distribution:\")\n",
    "print(f\"  Training: {Counter(y_train_split)}\")\n",
    "print(f\"  Validation: {Counter(y_val)}\")\n",
    "print(f\"  Test: {Counter(y_test)}\")\n",
    "\n",
    "# Calculate class weights for imbalanced dataset\n",
    "class_counts = Counter(y_train_split)\n",
    "total_samples = len(y_train_split)\n",
    "class_weights = {\n",
    "    0: total_samples / (2 * class_counts[0]),  # Not harmful\n",
    "    1: total_samples / (2 * class_counts[1])   # Harmful\n",
    "}\n",
    "\n",
    "print(f\"\\nClass weights for balanced training:\")\n",
    "print(f\"  Class 0 (Not Harmful): {class_weights[0]:.3f}\")\n",
    "print(f\"  Class 1 (Harmful): {class_weights[1]:.3f}\")"
   ]
  },
  {
   "cell_type": "markdown",
   "metadata": {
    "application/vnd.databricks.v1+cell": {
     "cellMetadata": {
      "byteLimit": 2048000,
      "rowLimit": 10000
     },
     "inputWidgets": {},
     "nuid": "8e99fef7-ee29-4388-83b3-5d830fede8c1",
     "showTitle": false,
     "tableResultSettingsMap": {},
     "title": ""
    }
   },
   "source": [
    "## 6. PyTorch Dataset Class"
   ]
  },
  {
   "cell_type": "code",
   "execution_count": 0,
   "metadata": {
    "application/vnd.databricks.v1+cell": {
     "cellMetadata": {
      "byteLimit": 2048000,
      "rowLimit": 10000
     },
     "inputWidgets": {},
     "nuid": "de803c0b-69da-4589-bba8-1f3a74342231",
     "showTitle": false,
     "tableResultSettingsMap": {},
     "title": ""
    }
   },
   "outputs": [
    {
     "output_type": "stream",
     "name": "stdout",
     "output_type": "stream",
     "text": [
      "✅ Data loaders created successfully!\n  Training batches: 200\n  Validation batches: 67\n  Test batches: 16\n"
     ]
    }
   ],
   "source": [
    "class MemeTextDataset(Dataset):\n",
    "    \"\"\"\n",
    "    PyTorch Dataset for meme text classification\n",
    "    Handles sequences and labels efficiently\n",
    "    \"\"\"\n",
    "    \n",
    "    def __init__(self, sequences, labels):\n",
    "        self.sequences = torch.LongTensor(sequences)\n",
    "        self.labels = torch.LongTensor(labels)\n",
    "        \n",
    "    def __len__(self):\n",
    "        return len(self.sequences)\n",
    "    \n",
    "    def __getitem__(self, idx):\n",
    "        return {\n",
    "            'sequence': self.sequences[idx],\n",
    "            'label': self.labels[idx]\n",
    "        }\n",
    "\n",
    "# Create datasets\n",
    "train_dataset = MemeTextDataset(X_train_split, y_train_split)\n",
    "val_dataset = MemeTextDataset(X_val, y_val)\n",
    "test_dataset = MemeTextDataset(X_test, y_test)\n",
    "\n",
    "# Create data loaders with balanced sampling for training\n",
    "sample_weights = [class_weights[label] for label in y_train_split]\n",
    "sampler = WeightedRandomSampler(sample_weights, len(sample_weights))\n",
    "\n",
    "train_loader = DataLoader(train_dataset, batch_size=32, sampler=sampler)\n",
    "val_loader = DataLoader(val_dataset, batch_size=32, shuffle=False)\n",
    "test_loader = DataLoader(test_dataset, batch_size=32, shuffle=False)\n",
    "\n",
    "print(f\"✅ Data loaders created successfully!\")\n",
    "print(f\"  Training batches: {len(train_loader)}\")\n",
    "print(f\"  Validation batches: {len(val_loader)}\")\n",
    "print(f\"  Test batches: {len(test_loader)}\")"
   ]
  },
  {
   "cell_type": "markdown",
   "metadata": {
    "application/vnd.databricks.v1+cell": {
     "cellMetadata": {
      "byteLimit": 2048000,
      "rowLimit": 10000
     },
     "inputWidgets": {},
     "nuid": "5c9873ef-a794-48ef-80c8-41a60be967c8",
     "showTitle": false,
     "tableResultSettingsMap": {},
     "title": ""
    }
   },
   "source": [
    "## 7. LSTM Model Architecture"
   ]
  },
  {
   "cell_type": "code",
   "execution_count": 0,
   "metadata": {
    "application/vnd.databricks.v1+cell": {
     "cellMetadata": {
      "byteLimit": 2048000,
      "rowLimit": 10000
     },
     "inputWidgets": {},
     "nuid": "5ab5a410-c1e5-4d31-b2ea-6112a43eeddb",
     "showTitle": false,
     "tableResultSettingsMap": {},
     "title": ""
    }
   },
   "outputs": [
    {
     "output_type": "stream",
     "name": "stdout",
     "output_type": "stream",
     "text": [
      "Current preprocessor vocabulary size: 7531\n"
     ]
    }
   ],
   "source": [
    "VOCAB_SIZE =preprocessor.vocab_size\n",
    "\n",
    "\n",
    "# Check the actual vocabulary size from our preprocessor\n",
    "print(f\"Current preprocessor vocabulary size: {VOCAB_SIZE}\")"
   ]
  },
  {
   "cell_type": "code",
   "execution_count": 0,
   "metadata": {
    "application/vnd.databricks.v1+cell": {
     "cellMetadata": {
      "byteLimit": 2048000,
      "rowLimit": 10000
     },
     "inputWidgets": {},
     "nuid": "c61137ab-16cc-4471-bd78-5241ce13f76d",
     "showTitle": false,
     "tableResultSettingsMap": {},
     "title": ""
    }
   },
   "outputs": [
    {
     "output_type": "stream",
     "name": "stdout",
     "output_type": "stream",
     "text": [
      "Model Architecture:\n  Total parameters: 559,394\n  Device: cuda\n\nModel structure:\nHarmfulMemeClassifier(\n  (embedding): Embedding(7531, 64, padding_idx=0)\n  (lstm): LSTM(64, 32, num_layers=3, batch_first=True, dropout=0.7, bidirectional=True)\n  (dropout): Dropout(p=0.7, inplace=False)\n  (fc1): Linear(in_features=64, out_features=32, bias=True)\n  (fc2): Linear(in_features=32, out_features=2, bias=True)\n)\n"
     ]
    }
   ],
   "source": [
    "class HarmfulMemeClassifier(nn.Module):\n",
    "    \"\"\"\n",
    "    Bidirectional LSTM model for harmful meme text classification\n",
    "    \n",
    "    Architecture:\n",
    "    - Embedding layer (with optional pre-trained weights)\n",
    "    - Bidirectional LSTM\n",
    "    - Dropout for regularization\n",
    "    - Dense layers for classification\n",
    "    \"\"\"\n",
    "    \n",
    "    def __init__(self, vocab_size, embedding_dim=64, hidden_dim=32, \n",
    "                 num_layers=1, dropout=0.5, num_classes=2):\n",
    "        super(HarmfulMemeClassifier, self).__init__()\n",
    "        \n",
    "        self.hidden_dim = hidden_dim\n",
    "        self.num_layers = num_layers\n",
    "        \n",
    "        # Embedding layer\n",
    "        self.embedding = nn.Embedding(vocab_size, embedding_dim, padding_idx=0)\n",
    "        \n",
    "        # Bidirectional LSTM\n",
    "        self.lstm = nn.LSTM(\n",
    "            embedding_dim, \n",
    "            hidden_dim,\n",
    "            num_layers=num_layers,\n",
    "            batch_first=True,\n",
    "            dropout=dropout if num_layers > 1 else 0,\n",
    "            bidirectional=True\n",
    "        )\n",
    "        \n",
    "        # Dropout for regularization\n",
    "        self.dropout = nn.Dropout(dropout)\n",
    "        \n",
    "        # Dense layers for classification\n",
    "        self.fc1 = nn.Linear(hidden_dim * 2, hidden_dim)  # *2 for bidirectional\n",
    "        self.fc2 = nn.Linear(hidden_dim, num_classes)\n",
    "        \n",
    "        # Initialize weights\n",
    "        self.init_weights()\n",
    "    \n",
    "    def init_weights(self):\n",
    "        \"\"\"Initialize model weights following best practices\"\"\"\n",
    "        for name, param in self.named_parameters():\n",
    "            if 'weight' in name:\n",
    "                if 'lstm' in name:\n",
    "                    # LSTM weights initialization\n",
    "                    nn.init.orthogonal_(param.data)\n",
    "                else:\n",
    "                    # Dense layer weights\n",
    "                    nn.init.xavier_uniform_(param.data)\n",
    "            elif 'bias' in name:\n",
    "                nn.init.constant_(param.data, 0)\n",
    "    \n",
    "    # def forward(self, x):\n",
    "    #     # Embedding\n",
    "    #     embedded = self.embedding(x)  # [batch_size, seq_len, embedding_dim]\n",
    "        \n",
    "    #     # LSTM\n",
    "    #     lstm_out, (hidden, cell) = self.lstm(embedded)  # [batch_size, seq_len, hidden_dim*2]\n",
    "        \n",
    "    #     # Use the last output for classification (taking both directions)\n",
    "    #     last_output = lstm_out[:, -1, :]  # [batch_size, hidden_dim*2]\n",
    "        \n",
    "    #     # Apply dropout\n",
    "    #     dropped = self.dropout(last_output)\n",
    "        \n",
    "    #     # Dense layers\n",
    "    #     fc1_out = torch.relu(self.fc1(dropped))  # [batch_size, hidden_dim]\n",
    "    #     fc1_out = self.dropout(fc1_out)\n",
    "        \n",
    "    #     logits = self.fc2(fc1_out)  # [batch_size, num_classes]\n",
    "        \n",
    "    #     return logits\n",
    "    \n",
    "    def forward(self, x):\n",
    "        embedded = self.embedding(x)\n",
    "        lstm_out, (hidden, cell) = self.lstm(embedded)\n",
    "        \n",
    "        # NEW: Use global average pooling instead of last output\n",
    "        # Create mask to ignore padding tokens\n",
    "        mask = (x != 0).float().unsqueeze(-1)  # [batch_size, seq_len, 1]\n",
    "        \n",
    "        # Apply mask to LSTM outputs\n",
    "        masked_output = lstm_out * mask  # [batch_size, seq_len, hidden_dim*2]\n",
    "        \n",
    "        # Calculate average, ignoring padded positions\n",
    "        sequence_lengths = mask.sum(dim=1)  # [batch_size, 1]\n",
    "        pooled_output = masked_output.sum(dim=1) / sequence_lengths  # [batch_size, hidden_dim*2]\n",
    "        \n",
    "        # Continue with classification layers\n",
    "        dropped = self.dropout(pooled_output)\n",
    "        fc1_out = torch.relu(self.fc1(dropped))\n",
    "        fc1_out = self.dropout(fc1_out)\n",
    "        logits = self.fc2(fc1_out)\n",
    "        return logits\n",
    "\n",
    "# Initialize model\n",
    "# model = HarmfulMemeClassifier(\n",
    "#     vocab_size=preprocessor.vocab_size,\n",
    "#     embedding_dim=128,\n",
    "#     hidden_dim=64,\n",
    "#     num_layers=2,\n",
    "#     dropout=0.3,\n",
    "#     num_classes=2\n",
    "# ).to(device)\n",
    "\n",
    "# model = HarmfulMemeClassifier( #1st first try!\n",
    "#     vocab_size=VOCAB_SIZE,  # Use the actual vocab size\n",
    "#     embedding_dim=128,\n",
    "#     hidden_dim=64,\n",
    "#     num_layers=2,\n",
    "#     dropout=0.5,\n",
    "#     num_classes=2\n",
    "# ).to(device)\n",
    "\n",
    "\n",
    "model = HarmfulMemeClassifier(\n",
    "    vocab_size=VOCAB_SIZE,\n",
    "    embedding_dim=64,        # Reduced from 128\n",
    "    hidden_dim=32,           # Reduced from 64  \n",
    "    num_layers=3,            # Reduced from 2\n",
    "    dropout=0.7,             # Increased from 0.3\n",
    "    num_classes=2\n",
    ").to(device)\n",
    "\n",
    "# Model summary\n",
    "def count_parameters(model):\n",
    "    return sum(p.numel() for p in model.parameters() if p.requires_grad)\n",
    "\n",
    "print(f\"Model Architecture:\")\n",
    "print(f\"  Total parameters: {count_parameters(model):,}\")\n",
    "print(f\"  Device: {device}\")\n",
    "print(\"\\nModel structure:\")\n",
    "print(model)"
   ]
  },
  {
   "cell_type": "code",
   "execution_count": 0,
   "metadata": {
    "application/vnd.databricks.v1+cell": {
     "cellMetadata": {
      "byteLimit": 2048000,
      "rowLimit": 10000
     },
     "inputWidgets": {},
     "nuid": "89e68a19-a6f2-41b5-b69f-2230063d9d91",
     "showTitle": false,
     "tableResultSettingsMap": {},
     "title": ""
    }
   },
   "outputs": [
    {
     "output_type": "stream",
     "name": "stdout",
     "output_type": "stream",
     "text": [
      "✅ Model re-initialized with:\n   • Vocabulary size: 7531\n   • Embedding layer size: 7531\n   • Total parameters: 559,394\n"
     ]
    }
   ],
   "source": [
    "# Verify model parameters\n",
    "print(f\"✅ Model re-initialized with:\")\n",
    "print(f\"   • Vocabulary size: {preprocessor.vocab_size}\")\n",
    "print(f\"   • Embedding layer size: {model.embedding.num_embeddings}\")\n",
    "print(f\"   • Total parameters: {sum(p.numel() for p in model.parameters() if p.requires_grad):,}\")\n"
   ]
  },
  {
   "cell_type": "code",
   "execution_count": 0,
   "metadata": {
    "application/vnd.databricks.v1+cell": {
     "cellMetadata": {
      "byteLimit": 2048000,
      "rowLimit": 10000
     },
     "inputWidgets": {},
     "nuid": "1d1a37ef-0335-4f8a-8667-869fb8c76f08",
     "showTitle": false,
     "tableResultSettingsMap": {},
     "title": ""
    }
   },
   "outputs": [],
   "source": [
    "# # optimizer = optim.Adam(model.parameters(), lr=0.001, weight_decay=1e-5)\n",
    "# # scheduler = optim.lr_scheduler.StepLR(optimizer, step_size=5, gamma=0.5)\n",
    "\n",
    "# # Test with a small batch\n",
    "# sample_batch = next(iter(train_loader))\n",
    "# with torch.no_grad():\n",
    "#     test_output = model(sample_batch['sequence'].to(device))\n",
    "# print(f\"✅ Forward pass successful! Output shape: {test_output.shape}\")"
   ]
  },
  {
   "cell_type": "markdown",
   "metadata": {
    "application/vnd.databricks.v1+cell": {
     "cellMetadata": {
      "byteLimit": 2048000,
      "rowLimit": 10000
     },
     "inputWidgets": {},
     "nuid": "69263f32-a7b5-4ff4-bb65-057a7822772b",
     "showTitle": false,
     "tableResultSettingsMap": {},
     "title": ""
    }
   },
   "source": [
    "## 8. Training Setup & Loss Function"
   ]
  },
  {
   "cell_type": "code",
   "execution_count": 0,
   "metadata": {
    "application/vnd.databricks.v1+cell": {
     "cellMetadata": {
      "byteLimit": 2048000,
      "rowLimit": 10000
     },
     "inputWidgets": {},
     "nuid": "50ac702d-9c30-418a-80d0-8ca4de9279dc",
     "showTitle": false,
     "tableResultSettingsMap": {},
     "title": ""
    }
   },
   "outputs": [
    {
     "output_type": "stream",
     "name": "stdout",
     "output_type": "stream",
     "text": [
      "✅ Training setup complete!\n   Loss function: CrossEntropyLoss() with class weights\n   Optimizer: Adam (lr=0.0005, weight_decay=1e-4)\n   Scheduler: StepLR (step_size=5, gamma=0.1)\n   Early stopping: patience=5, min_delta=0.005\n"
     ]
    }
   ],
   "source": [
    "# Loss function with class weights\n",
    "weight_tensor = torch.FloatTensor([class_weights[0], class_weights[1]]).to(device)\n",
    "criterion = nn.CrossEntropyLoss(weight=weight_tensor)\n",
    "\n",
    "# Optimizer - Adam with learning rate scheduling\n",
    "# optimizer = optim.Adam(model.parameters(), lr=0.001, weight_decay=1e-5) #first 1st try\n",
    "\n",
    "\n",
    "\n",
    "# Training metrics tracking\n",
    "def calculate_accuracy(outputs, labels):\n",
    "    \"\"\"Calculate accuracy from model outputs\"\"\"\n",
    "    _, predicted = torch.max(outputs.data, 1)\n",
    "    total = labels.size(0)\n",
    "    correct = (predicted == labels).sum().item()\n",
    "    return correct / total\n",
    "\n",
    "# Early stopping setup\n",
    "class EarlyStopping:\n",
    "    \"\"\"Early stopping to prevent overfitting\"\"\"\n",
    "    \n",
    "    def __init__(self, patience=7, min_delta=0.001):\n",
    "        self.patience = patience\n",
    "        self.min_delta = min_delta\n",
    "        self.counter = 0\n",
    "        self.best_loss = float('inf')\n",
    "    \n",
    "    def __call__(self, val_loss):\n",
    "        if val_loss < self.best_loss - self.min_delta:\n",
    "            self.best_loss = val_loss\n",
    "            self.counter = 0\n",
    "            return False\n",
    "        else:\n",
    "            self.counter += 1\n",
    "            return self.counter >= self.patience\n",
    "\n",
    "# early_stopping = EarlyStopping(patience=7, min_delta=0.001) #first 1st try \n",
    "\n",
    "\n",
    "# Loss function with class weights\n",
    "weight_tensor = torch.FloatTensor([class_weights[0], class_weights[1]]).to(device)\n",
    "criterion = nn.CrossEntropyLoss(weight=weight_tensor)\n",
    "\n",
    "early_stopping = EarlyStopping(patience=5, min_delta=0.005)  # Reduced patience, higher min_delta\n",
    "\n",
    "optimizer = optim.Adam(model.parameters(), lr=0.0005, weight_decay=1e-4)  # Lower LR, higher weight decay\n",
    "\n",
    "scheduler = optim.lr_scheduler.StepLR(optimizer, step_size=5, gamma=0.1)\n",
    "\n",
    "print(\"✅ Training setup complete!\")\n",
    "print(f\"   Loss function: {criterion} with class weights\")\n",
    "print(f\"   Optimizer: Adam (lr=0.0005, weight_decay=1e-4)\")\n",
    "print(f\"   Scheduler: StepLR (step_size=5, gamma=0.1)\")\n",
    "print(f\"   Early stopping: patience=5, min_delta=0.005\")"
   ]
  },
  {
   "cell_type": "markdown",
   "metadata": {
    "application/vnd.databricks.v1+cell": {
     "cellMetadata": {
      "byteLimit": 2048000,
      "rowLimit": 10000
     },
     "inputWidgets": {},
     "nuid": "914b709e-e9ea-4d29-b59c-a270b6a990c4",
     "showTitle": false,
     "tableResultSettingsMap": {},
     "title": ""
    }
   },
   "source": [
    "## 9. Training Loop"
   ]
  },
  {
   "cell_type": "code",
   "execution_count": 0,
   "metadata": {
    "application/vnd.databricks.v1+cell": {
     "cellMetadata": {
      "byteLimit": 2048000,
      "rowLimit": 10000
     },
     "inputWidgets": {},
     "nuid": "411eb762-f258-4fea-aaf7-1cd5ec0f452f",
     "showTitle": false,
     "tableResultSettingsMap": {},
     "title": ""
    }
   },
   "outputs": [
    {
     "output_type": "stream",
     "name": "stdout",
     "output_type": "stream",
     "text": [
      "Starting training...\n============================================================\nEpoch [1/80]\n  Train Loss: 0.6682, Train Acc: 0.4876\n  Val Loss:   0.7174, Val Acc:   0.3586\n  LR: 0.000500\n----------------------------------------\nEpoch [2/80]\n  Train Loss: 0.5965, Train Acc: 0.5773\n  Val Loss:   0.7271, Val Acc:   0.5758\n  LR: 0.000500\n----------------------------------------\nEpoch [3/80]\n  Train Loss: 0.5162, Train Acc: 0.7328\n  Val Loss:   0.6994, Val Acc:   0.6211\n  LR: 0.000500\n----------------------------------------\nEpoch [4/80]\n  Train Loss: 0.4577, Train Acc: 0.7844\n  Val Loss:   0.7819, Val Acc:   0.5996\n  LR: 0.000500\n----------------------------------------\nEpoch [5/80]\n  Train Loss: 0.4263, Train Acc: 0.8029\n  Val Loss:   0.8201, Val Acc:   0.6012\n  LR: 0.000050\n----------------------------------------\nEpoch [6/80]\n  Train Loss: 0.3821, Train Acc: 0.8224\n  Val Loss:   0.9209, Val Acc:   0.6003\n  LR: 0.000050\n----------------------------------------\nEpoch [7/80]\n  Train Loss: 0.3897, Train Acc: 0.8216\n  Val Loss:   0.9197, Val Acc:   0.6106\n  LR: 0.000050\n----------------------------------------\nEpoch [8/80]\n  Train Loss: 0.3831, Train Acc: 0.8265\n  Val Loss:   0.9481, Val Acc:   0.6101\n  LR: 0.000050\n----------------------------------------\nEarly stopping triggered at epoch 8\n✅ Loaded best model (val_loss: 0.6994)\nTraining completed!\n"
     ]
    }
   ],
   "source": [
    "def train_epoch(model, train_loader, criterion, optimizer, device):\n",
    "    \"\"\"Train model for one epoch\"\"\"\n",
    "    model.train()\n",
    "    total_loss = 0\n",
    "    total_accuracy = 0\n",
    "    \n",
    "    for batch_idx, batch in enumerate(train_loader):\n",
    "        sequences = batch['sequence'].to(device)\n",
    "        labels = batch['label'].to(device)\n",
    "        \n",
    "        # Forward pass\n",
    "        optimizer.zero_grad()\n",
    "        outputs = model(sequences)\n",
    "        loss = criterion(outputs, labels)\n",
    "        \n",
    "        # Backward pass\n",
    "        loss.backward()\n",
    "        \n",
    "        # Gradient clipping to prevent exploding gradients\n",
    "        torch.nn.utils.clip_grad_norm_(model.parameters(), max_norm=1.0)\n",
    "        \n",
    "        optimizer.step()\n",
    "        \n",
    "        # Track metrics\n",
    "        total_loss += loss.item()\n",
    "        total_accuracy += calculate_accuracy(outputs, labels)\n",
    "    \n",
    "    avg_loss = total_loss / len(train_loader)\n",
    "    avg_accuracy = total_accuracy / len(train_loader)\n",
    "    \n",
    "    return avg_loss, avg_accuracy\n",
    "\n",
    "def validate_epoch(model, val_loader, criterion, device):\n",
    "    \"\"\"Validate model for one epoch\"\"\"\n",
    "    model.eval()\n",
    "    total_loss = 0\n",
    "    total_accuracy = 0\n",
    "    \n",
    "    with torch.no_grad():\n",
    "        for batch in val_loader:\n",
    "            sequences = batch['sequence'].to(device)\n",
    "            labels = batch['label'].to(device)\n",
    "            \n",
    "            outputs = model(sequences)\n",
    "            loss = criterion(outputs, labels)\n",
    "            \n",
    "            total_loss += loss.item()\n",
    "            total_accuracy += calculate_accuracy(outputs, labels)\n",
    "    \n",
    "    avg_loss = total_loss / len(val_loader)\n",
    "    avg_accuracy = total_accuracy / len(val_loader)\n",
    "    \n",
    "    return avg_loss, avg_accuracy\n",
    "\n",
    "# Training loop\n",
    "print(\"Starting training...\")\n",
    "print(\"=\"*60)\n",
    "\n",
    "# num_epochs = 300 #first 1st try\n",
    "\n",
    "num_epochs = 80  # Reduced from 300 - your model was overfitting quickly\n",
    "\n",
    "train_losses = []\n",
    "val_losses = []\n",
    "train_accuracies = []\n",
    "val_accuracies = []\n",
    "\n",
    "best_val_loss = float('inf')\n",
    "best_model_state = None\n",
    "\n",
    "for epoch in range(num_epochs):\n",
    "    # Training\n",
    "    train_loss, train_acc = train_epoch(model, train_loader, criterion, optimizer, device)\n",
    "    \n",
    "    # Validation\n",
    "    val_loss, val_acc = validate_epoch(model, val_loader, criterion, device)\n",
    "    \n",
    "    # Update learning rate\n",
    "    scheduler.step()\n",
    "    current_lr = optimizer.param_groups[0]['lr']\n",
    "    \n",
    "    # Save best model\n",
    "    if val_loss < best_val_loss:\n",
    "        best_val_loss = val_loss\n",
    "        best_model_state = model.state_dict().copy()\n",
    "    \n",
    "    # Track metrics\n",
    "    train_losses.append(train_loss)\n",
    "    val_losses.append(val_loss)\n",
    "    train_accuracies.append(train_acc)\n",
    "    val_accuracies.append(val_acc)\n",
    "    \n",
    "    # Print progress\n",
    "    print(f\"Epoch [{epoch+1}/{num_epochs}]\")\n",
    "    print(f\"  Train Loss: {train_loss:.4f}, Train Acc: {train_acc:.4f}\")\n",
    "    print(f\"  Val Loss:   {val_loss:.4f}, Val Acc:   {val_acc:.4f}\")\n",
    "    print(f\"  LR: {current_lr:.6f}\")\n",
    "    print(\"-\" * 40)\n",
    "    \n",
    "    # Early stopping check\n",
    "    if early_stopping(val_loss):\n",
    "        print(f\"Early stopping triggered at epoch {epoch+1}\")\n",
    "        break\n",
    "\n",
    "# Load best model\n",
    "if best_model_state is not None:\n",
    "    model.load_state_dict(best_model_state)\n",
    "    print(f\"✅ Loaded best model (val_loss: {best_val_loss:.4f})\")\n",
    "\n",
    "print(\"Training completed!\")"
   ]
  },
  {
   "cell_type": "markdown",
   "metadata": {
    "application/vnd.databricks.v1+cell": {
     "cellMetadata": {
      "byteLimit": 2048000,
      "rowLimit": 10000
     },
     "inputWidgets": {},
     "nuid": "fbf918d3-e3ed-41fa-81c4-2c079d4baa73",
     "showTitle": false,
     "tableResultSettingsMap": {},
     "title": ""
    }
   },
   "source": [
    "## 10. Training Visualization & Analysis"
   ]
  },
  {
   "cell_type": "code",
   "execution_count": 0,
   "metadata": {
    "application/vnd.databricks.v1+cell": {
     "cellMetadata": {
      "byteLimit": 2048000,
      "rowLimit": 10000
     },
     "inputWidgets": {},
     "nuid": "16fa0733-bd44-484e-adf4-0ebab3cce3c0",
     "showTitle": false,
     "tableResultSettingsMap": {},
     "title": ""
    }
   },
   "outputs": [
    {
     "output_type": "display_data",
     "data": {
      "image/png": "[encoded data removed]",
      "text/plain": [
       "<Figure size 1500x500 with 3 Axes>"
      ]
     },
     "metadata": {},
     "output_type": "display_data"
    },
    {
     "output_type": "stream",
     "name": "stdout",
     "output_type": "stream",
     "text": [
      "============================================================\nTRAINING SUMMARY\n============================================================\nBest validation loss: 0.6994\nBest validation accuracy: 0.6211\nFinal training accuracy: 0.8265\nFinal validation accuracy: 0.6101\nGeneralization gap: 0.2164\n"
     ]
    }
   ],
   "source": [
    "# Plot training curves\n",
    "plt.figure(figsize=(15, 5))\n",
    "\n",
    "plt.subplot(1, 3, 1)\n",
    "plt.plot(train_losses, label='Training Loss', color='blue')\n",
    "plt.plot(val_losses, label='Validation Loss', color='red')\n",
    "plt.title('Training & Validation Loss')\n",
    "plt.xlabel('Epoch')\n",
    "plt.ylabel('Loss')\n",
    "plt.legend()\n",
    "plt.grid(True)\n",
    "\n",
    "plt.subplot(1, 3, 2)\n",
    "plt.plot(train_accuracies, label='Training Accuracy', color='blue')\n",
    "plt.plot(val_accuracies, label='Validation Accuracy', color='red')\n",
    "plt.title('Training & Validation Accuracy')\n",
    "plt.xlabel('Epoch')\n",
    "plt.ylabel('Accuracy')\n",
    "plt.legend()\n",
    "plt.grid(True)\n",
    "\n",
    "plt.subplot(1, 3, 3)\n",
    "plt.plot(np.array(val_accuracies) - np.array(train_accuracies), \n",
    "         label='Val - Train Acc', color='green')\n",
    "plt.title('Generalization Gap')\n",
    "plt.xlabel('Epoch')\n",
    "plt.ylabel('Accuracy Difference')\n",
    "plt.legend()\n",
    "plt.grid(True)\n",
    "plt.axhline(y=0, color='black', linestyle='--', alpha=0.5)\n",
    "\n",
    "plt.tight_layout()\n",
    "plt.show()\n",
    "\n",
    "# Print final training summary\n",
    "print(\"=\"*60)\n",
    "print(\"TRAINING SUMMARY\")\n",
    "print(\"=\"*60)\n",
    "print(f\"Best validation loss: {min(val_losses):.4f}\")\n",
    "print(f\"Best validation accuracy: {max(val_accuracies):.4f}\")\n",
    "print(f\"Final training accuracy: {train_accuracies[-1]:.4f}\")\n",
    "print(f\"Final validation accuracy: {val_accuracies[-1]:.4f}\")\n",
    "print(f\"Generalization gap: {abs(val_accuracies[-1] - train_accuracies[-1]):.4f}\")"
   ]
  },
  {
   "cell_type": "markdown",
   "metadata": {
    "application/vnd.databricks.v1+cell": {
     "cellMetadata": {
      "byteLimit": 2048000,
      "rowLimit": 10000
     },
     "inputWidgets": {},
     "nuid": "bc3475aa-2839-41e3-85b5-f46fee0c677e",
     "showTitle": false,
     "tableResultSettingsMap": {},
     "title": ""
    }
   },
   "source": [
    "## 11. Model Evaluation & Test Results"
   ]
  },
  {
   "cell_type": "code",
   "execution_count": 0,
   "metadata": {
    "application/vnd.databricks.v1+cell": {
     "cellMetadata": {
      "byteLimit": 2048000,
      "rowLimit": 10000
     },
     "inputWidgets": {},
     "nuid": "6d0e8534-129a-4400-9dbe-6e69502f4278",
     "showTitle": false,
     "tableResultSettingsMap": {},
     "title": ""
    }
   },
   "outputs": [
    {
     "output_type": "stream",
     "name": "stdout",
     "output_type": "stream",
     "text": [
      "Evaluating model on test set...\n============================================================\nTEST SET EVALUATION RESULTS\n============================================================\nTest Accuracy: 0.5800\nTest AUC-ROC: 0.5848\n\nDetailed Classification Report:\n              precision    recall  f1-score   support\n\n Not Harmful       0.57      0.69      0.62       250\n     Harmful       0.60      0.47      0.53       250\n\n    accuracy                           0.58       500\n   macro avg       0.58      0.58      0.58       500\nweighted avg       0.58      0.58      0.58       500\n\n"
     ]
    },
    {
     "output_type": "display_data",
     "data": {
      "image/png": "[encoded data removed]",
      "text/plain": [
       "<Figure size 800x600 with 2 Axes>"
      ]
     },
     "metadata": {},
     "output_type": "display_data"
    },
    {
     "output_type": "stream",
     "name": "stdout",
     "output_type": "stream",
     "text": [
      "\nPer-Class Analysis:\n  Not Harmful: 0.6880 (250 samples)\n  Harmful: 0.4720 (250 samples)\n"
     ]
    }
   ],
   "source": [
    "def evaluate_model(model, test_loader, device):\n",
    "    \"\"\"\n",
    "    Comprehensive model evaluation with detailed metrics\n",
    "    \"\"\"\n",
    "    model.eval()\n",
    "    \n",
    "    all_predictions = []\n",
    "    all_labels = []\n",
    "    all_probabilities = []\n",
    "    \n",
    "    with torch.no_grad():\n",
    "        for batch in test_loader:\n",
    "            sequences = batch['sequence'].to(device)\n",
    "            labels = batch['label'].to(device)\n",
    "            \n",
    "            outputs = model(sequences)\n",
    "            probabilities = torch.softmax(outputs, dim=1)\n",
    "            _, predicted = torch.max(outputs, 1)\n",
    "            \n",
    "            all_predictions.extend(predicted.cpu().numpy())\n",
    "            all_labels.extend(labels.cpu().numpy())\n",
    "            all_probabilities.extend(probabilities.cpu().numpy())\n",
    "    \n",
    "    return np.array(all_predictions), np.array(all_labels), np.array(all_probabilities)\n",
    "\n",
    "# Evaluate on test set\n",
    "print(\"Evaluating model on test set...\")\n",
    "test_predictions, test_labels, test_probabilities = evaluate_model(model, test_loader, device)\n",
    "\n",
    "# Calculate metrics\n",
    "test_accuracy = np.mean(test_predictions == test_labels)\n",
    "test_auc = roc_auc_score(test_labels, test_probabilities[:, 1])\n",
    "\n",
    "print(\"=\"*60)\n",
    "print(\"TEST SET EVALUATION RESULTS\")\n",
    "print(\"=\"*60)\n",
    "print(f\"Test Accuracy: {test_accuracy:.4f}\")\n",
    "print(f\"Test AUC-ROC: {test_auc:.4f}\")\n",
    "\n",
    "# Detailed classification report\n",
    "print(\"\\nDetailed Classification Report:\")\n",
    "print(classification_report(test_labels, test_predictions, \n",
    "                          target_names=['Not Harmful', 'Harmful']))\n",
    "\n",
    "# Confusion Matrix\n",
    "cm = confusion_matrix(test_labels, test_predictions)\n",
    "plt.figure(figsize=(8, 6))\n",
    "sns.heatmap(cm, annot=True, fmt='d', cmap='Blues', \n",
    "            xticklabels=['Not Harmful', 'Harmful'],\n",
    "            yticklabels=['Not Harmful', 'Harmful'])\n",
    "plt.title('Confusion Matrix - Test Set')\n",
    "plt.xlabel('Predicted')\n",
    "plt.ylabel('Actual')\n",
    "plt.show()\n",
    "\n",
    "# Per-class analysis\n",
    "print(\"\\nPer-Class Analysis:\")\n",
    "for i, class_name in enumerate(['Not Harmful', 'Harmful']):\n",
    "    class_mask = test_labels == i\n",
    "    class_accuracy = np.mean(test_predictions[class_mask] == test_labels[class_mask])\n",
    "    print(f\"  {class_name}: {class_accuracy:.4f} ({np.sum(class_mask)} samples)\")"
   ]
  },
  {
   "cell_type": "markdown",
   "metadata": {
    "application/vnd.databricks.v1+cell": {
     "cellMetadata": {
      "byteLimit": 2048000,
      "rowLimit": 10000
     },
     "inputWidgets": {},
     "nuid": "af543287-9139-4022-890e-bd1f1084fab4",
     "showTitle": false,
     "tableResultSettingsMap": {},
     "title": ""
    }
   },
   "source": [
    "## 12. Model Analysis & Sample Predictions"
   ]
  },
  {
   "cell_type": "code",
   "execution_count": 0,
   "metadata": {
    "application/vnd.databricks.v1+cell": {
     "cellMetadata": {
      "byteLimit": 2048000,
      "rowLimit": 10000
     },
     "inputWidgets": {},
     "nuid": "09d79674-e151-4217-a481-1d3fd32cd9d6",
     "showTitle": false,
     "tableResultSettingsMap": {},
     "title": ""
    }
   },
   "outputs": [
    {
     "output_type": "stream",
     "name": "stdout",
     "output_type": "stream",
     "text": [
      "================================================================================\nSAMPLE PREDICTIONS ANALYSIS\n================================================================================\n\n✅ CORRECT PREDICTIONS (sample):\n\n1. Text: 'father and daughter bonding time is the best like and share if you agree.'\n   True: Not Harmful, Predicted: Not Harmful\n   Confidence: 0.943\n\n2. Text: 'a real man loads the dishwasher every night.'\n   True: Harmful, Predicted: Harmful\n   Confidence: 0.832\n\n3. Text: 'in just one hour from now i'll only have 4 hours left until i have to work a mere 3 hours.'\n   True: Not Harmful, Predicted: Not Harmful\n   Confidence: 0.771\n\n4. Text: 'and then i asked mom, what's for dinner?.'\n   True: Not Harmful, Predicted: Not Harmful\n   Confidence: 0.876\n\n5. Text: 'mohammed i'm pregnant.... don't sass me, you know it's funny! ~cupcakes.'\n   True: Harmful, Predicted: Harmful\n   Confidence: 0.949\n\n6. Text: 'a jewish shop owner, wears a kippah or yarmulke whilst in his shop in tehran.'\n   True: Not Harmful, Predicted: Not Harmful\n   Confidence: 0.934\n\n7. Text: 'whatsthe difference between heroin and i? cops think twice before shooting heroin.'\n   True: Harmful, Predicted: Harmful\n   Confidence: 0.809\n\n8. Text: 'i'm no bird expert but i'm guessing it's 4 females and 1 male.'\n   True: Harmful, Predicted: Harmful\n   Confidence: 0.750\n\n9. Text: 'potato is my favorite color of the alphabet.'\n   True: Harmful, Predicted: Harmful\n   Confidence: 0.819\n\n10. Text: 'time to play rich vs the constitution.'\n   True: Not Harmful, Predicted: Not Harmful\n   Confidence: 0.950\n\n11. Text: 'bows here, bows there, bows everywhere.'\n   True: Not Harmful, Predicted: Not Harmful\n   Confidence: 0.928\n\n12. Text: 'when is the time to eat i am hungry.'\n   True: Not Harmful, Predicted: Not Harmful\n   Confidence: 0.959\n\n13. Text: 'you are what you eat meanwhile in africa.'\n   True: Not Harmful, Predicted: Not Harmful\n   Confidence: 0.929\n\n14. Text: 'if she's pouting like this and you don't immediately drop the argument , motherfucker you gay.'\n   True: Harmful, Predicted: Harmful\n   Confidence: 0.880\n\n15. Text: '...even the dumb jews know that! trump is a racist..'\n   True: Harmful, Predicted: Harmful\n   Confidence: 0.863\n\n16. Text: 'the families of the hillsborough tragedy were denied legal aid.... but shamima begum gets it to figh...' \n   True: Not Harmful, Predicted: Not Harmful\n   Confidence: 0.698\n\n17. Text: 'knowing white people , that's probably the baby father.'\n   True: Harmful, Predicted: Harmful\n   Confidence: 0.883\n\n18. Text: 'doing o's with the smoke.'\n   True: Not Harmful, Predicted: Not Harmful\n   Confidence: 0.719\n\n19. Text: 'in the muslim world all gay men are well hung.'\n   True: Harmful, Predicted: Harmful\n   Confidence: 0.985\n\n20. Text: 'a group of men.'\n   True: Harmful, Predicted: Harmful\n   Confidence: 0.754\n\n21. Text: 'the jihad squad.'\n   True: Harmful, Predicted: Harmful\n   Confidence: 0.702\n\n22. Text: 'and then i asked mom, can we go play?.'\n   True: Not Harmful, Predicted: Not Harmful\n   Confidence: 0.938\n\n23. Text: 'tranny for sale.'\n   True: Harmful, Predicted: Harmful\n   Confidence: 0.642\n\n24. Text: 'islam is a religion of peace stop criticizing my religion.'\n   True: Harmful, Predicted: Harmful\n   Confidence: 0.906\n\n25. Text: 'wouldn't be the last time those people used the oven this way.'\n   True: Harmful, Predicted: Harmful\n   Confidence: 0.835\n\n26. Text: 'i'm about to have my 5th abortion fuck you batman i'm the real crime fighter.'\n   True: Harmful, Predicted: Harmful\n   Confidence: 0.699\n\n27. Text: 'white people is this a shooting range.'\n   True: Harmful, Predicted: Harmful\n   Confidence: 0.606\n\n28. Text: 'i don't have ex's. i have y's. like, \"y the hell did i date you?!?\".'\n   True: Not Harmful, Predicted: Not Harmful\n   Confidence: 0.859\n\n29. Text: 'when mom asks where all the jews went.'\n   True: Harmful, Predicted: Harmful\n   Confidence: 0.865\n\n30. Text: 'diverse group of women.'\n   True: Not Harmful, Predicted: Not Harmful\n   Confidence: 0.633\n\n31. Text: 'german british danish austrian diversity. apparently we don't have it and these guys do: iraqi pakis...' \n   True: Harmful, Predicted: Harmful\n   Confidence: 0.908\n\n32. Text: 'the book about terrorism.'\n   True: Harmful, Predicted: Harmful\n   Confidence: 0.561\n\n33. Text: 'my sense of humor is so dark it picks cotton.'\n   True: Harmful, Predicted: Harmful\n   Confidence: 0.844\n\n34. Text: 'pre-heat to 350 degrees.'\n   True: Not Harmful, Predicted: Not Harmful\n   Confidence: 0.955\n\n35. Text: 'which one has tranny problems?.'\n   True: Harmful, Predicted: Harmful\n   Confidence: 0.880\n\n36. Text: 'under the name of multiculturalism we let terrorist into this country.'\n   True: Harmful, Predicted: Harmful\n   Confidence: 0.778\n\n37. Text: 'told girlfriend that mom is deaf so speak loud and slow told mom that girlfriend is retarded.'\n   True: Harmful, Predicted: Harmful\n   Confidence: 0.970\n\n38. Text: 'democrats we're new, bold, and we hate you! alexandria ocasio-cortez rashida tlais ilhan omar ayanna...' \n   True: Harmful, Predicted: Harmful\n   Confidence: 0.994\n\n39. Text: 'terrible as hitler was, he did enjoy watching sports.'\n   True: Not Harmful, Predicted: Not Harmful\n   Confidence: 0.993\n\n40. Text: 'human dna found in ancient goat carcass scientists believe this is first proof muhammad existed.'\n   True: Harmful, Predicted: Harmful\n   Confidence: 0.831\n\n41. Text: 'hitting is a crime. it's about time people understood that.'\n   True: Not Harmful, Predicted: Not Harmful\n   Confidence: 0.968\n\n42. Text: '4 am. everyone is asleep perfect time to run from one end of the house to the other at full speed as...' \n   True: Not Harmful, Predicted: Not Harmful\n   Confidence: 0.990\n\n43. Text: 'abnormal vs normal.'\n   True: Not Harmful, Predicted: Not Harmful\n   Confidence: 0.798\n\n44. Text: 'okay okay okay here's my serious face do i look fuhrerious yet?.'\n   True: Not Harmful, Predicted: Not Harmful\n   Confidence: 0.996\n\n45. Text: 'do you like goat anus? smell my finger.'\n   True: Harmful, Predicted: Harmful\n   Confidence: 0.706\n\n46. Text: 'celebrating the presidential election.'\n   True: Not Harmful, Predicted: Not Harmful\n   Confidence: 0.974\n\n47. Text: 'meanwhile in baltimore.'\n   True: Not Harmful, Predicted: Not Harmful\n   Confidence: 0.944\n\n48. Text: 'give them what they deserve kill them all.'\n   True: Harmful, Predicted: Harmful\n   Confidence: 0.776\n\n49. Text: 'making a quick 3pm snack.'\n   True: Not Harmful, Predicted: Not Harmful\n   Confidence: 0.944\n\n50. Text: 'i was excoriated for a harmless \"tweet\" and \"my show\" was cancelled.'\n   True: Not Harmful, Predicted: Not Harmful\n   Confidence: 0.984\n\n❌ INCORRECT PREDICTIONS (sample):\n\n1. Text: 'they see them rollin..... they hating...'\n   True: Harmful, Predicted: Not Harmful\n   Confidence: 0.636\n\n2. Text: 'after a girl dies, what organ in her body stays warm? my dick.'\n   True: Harmful, Predicted: Not Harmful\n   Confidence: 0.920\n\n3. Text: 'life hack #23 how to get stoned with no weed.'\n   True: Harmful, Predicted: Not Harmful\n   Confidence: 0.857\n\n4. Text: 'i am not racist i just don't like brown sugar.'\n   True: Harmful, Predicted: Not Harmful\n   Confidence: 0.929\n\n5. Text: 'when you decide to stop racism by burning its symbol.'\n   True: Not Harmful, Predicted: Harmful\n   Confidence: 0.854\n\n6. Text: 'doesnt have food, water, electricity proud of nuclear weapons.'\n   True: Harmful, Predicted: Not Harmful\n   Confidence: 0.952\n\n7. Text: 'must..resist...urge to.. kill whitey..'\n   True: Harmful, Predicted: Not Harmful\n   Confidence: 0.655\n\n8. Text: 'when the dog bites you and you bite back to assert dominance.'\n   True: Not Harmful, Predicted: Harmful\n   Confidence: 0.803\n\n9. Text: 'and just like that... this sandwich maker doubles as an ironing board.'\n   True: Harmful, Predicted: Not Harmful\n   Confidence: 0.835\n\n10. Text: 'a picture of my great great great grand grandfather's tractors they don't make them like they used t...' \n   True: Harmful, Predicted: Not Harmful\n   Confidence: 0.955\n\n11. Text: 'bartender: how about a nice 12 yr old? him: boy or girl?.'\n   True: Not Harmful, Predicted: Harmful\n   Confidence: 0.939\n\n12. Text: 'they are like sperm you get millions, but only one works.'\n   True: Not Harmful, Predicted: Harmful\n   Confidence: 0.942\n\n13. Text: 'i'm going home i'm russian.'\n   True: Harmful, Predicted: Not Harmful\n   Confidence: 0.670\n\n14. Text: 'terrorist can come to this country way to easy.'\n   True: Harmful, Predicted: Not Harmful\n   Confidence: 0.938\n\n15. Text: 'your order comes to $37.50 and your white privilege discount brings the total to $37.50.'\n   True: Harmful, Predicted: Not Harmful\n   Confidence: 0.901\n\n16. Text: 'hey, i just met you and this is crazy but here's your number... so camping, maybe?.'\n   True: Not Harmful, Predicted: Harmful\n   Confidence: 0.840\n\n17. Text: 'can you smell what the reich is cooking.'\n   True: Harmful, Predicted: Not Harmful\n   Confidence: 0.869\n\n18. Text: 'normal day in a islamic country.'\n   True: Not Harmful, Predicted: Harmful\n   Confidence: 0.773\n\n19. Text: 'portable dishwasher slash sandwich maker.'\n   True: Not Harmful, Predicted: Harmful\n   Confidence: 0.859\n\n20. Text: 'they are terrorists anyone who doesn't agree is an idiot.'\n   True: Harmful, Predicted: Not Harmful\n   Confidence: 0.976\n\n21. Text: 'the hardest part to eat in a vegetable.'\n   True: Harmful, Predicted: Not Harmful\n   Confidence: 0.755\n\n22. Text: 'this is the greatest news manufacturing in 20th century.'\n   True: Harmful, Predicted: Not Harmful\n   Confidence: 0.993\n\n23. Text: '\"plays uno steals all the green cards\".'\n   True: Not Harmful, Predicted: Harmful\n   Confidence: 0.910\n\n24. Text: 'the latest and greatest. a truck that comes with a dishwasher!.'\n   True: Harmful, Predicted: Not Harmful\n   Confidence: 0.898\n\n25. Text: 'in the last days there will be god hating scoffers, ridiculers, deniers and mockers following after ...' \n   True: Harmful, Predicted: Not Harmful\n   Confidence: 0.988\n\n26. Text: 'when you ask a jewish girl for her number and she starts rolling her sleeve.'\n   True: Not Harmful, Predicted: Harmful\n   Confidence: 0.969\n\n27. Text: 'when you are white and working in oil field.'\n   True: Not Harmful, Predicted: Harmful\n   Confidence: 0.737\n\n28. Text: 'safe sex isis style.'\n   True: Harmful, Predicted: Not Harmful\n   Confidence: 0.900\n\n29. Text: 'i started a business that sells landmines disguised as prayer mats.. ..prophets are going through th...' \n   True: Harmful, Predicted: Not Harmful\n   Confidence: 0.998\n\n30. Text: 'you are what you eat meanwhile in africa.'\n   True: Harmful, Predicted: Not Harmful\n   Confidence: 0.929\n\n31. Text: 'time to put the \"panic\" back in hispanic.'\n   True: Harmful, Predicted: Not Harmful\n   Confidence: 0.919\n\n32. Text: 'learn to hunt. it's a valuable skill.'\n   True: Not Harmful, Predicted: Harmful\n   Confidence: 0.726\n\n33. Text: 'say it! say it ! islam is the religion of peace.'\n   True: Not Harmful, Predicted: Harmful\n   Confidence: 0.721\n\n34. Text: 'in west philadelphia, born and raised in the anus is where i got most of my aids.'\n   True: Harmful, Predicted: Not Harmful\n   Confidence: 0.897\n\n35. Text: 'someone added to much soap to the dishwasher again.'\n   True: Harmful, Predicted: Not Harmful\n   Confidence: 0.951\n\n36. Text: 'she said girls run the world... so i told her get back in the kitchen.'\n   True: Harmful, Predicted: Not Harmful\n   Confidence: 0.770\n\n37. Text: 'wouldn't be the last time those people used the oven this way.'\n   True: Not Harmful, Predicted: Harmful\n   Confidence: 0.835\n\n38. Text: 'doing o's with the smoke.'\n   True: Harmful, Predicted: Not Harmful\n   Confidence: 0.719\n\n39. Text: 'we've taken this country! now fuck off! we're taking it back!.'\n   True: Harmful, Predicted: Not Harmful\n   Confidence: 0.712\n\n40. Text: 'last summer camp was so \"lit\".'\n   True: Not Harmful, Predicted: Harmful\n   Confidence: 0.743\n\n41. Text: 'broken dishwasher.'\n   True: Not Harmful, Predicted: Harmful\n   Confidence: 0.664\n\n42. Text: 'every kitchen needs a sandwich maker just like this one.'\n   True: Not Harmful, Predicted: Harmful\n   Confidence: 0.853\n\n43. Text: 'feeling bored, let's go to a mosque.'\n   True: Harmful, Predicted: Not Harmful\n   Confidence: 0.869\n\n44. Text: 'white kids kids dreaming about their first day of school.'\n   True: Harmful, Predicted: Not Harmful\n   Confidence: 0.697\n\n45. Text: 'when you decide to go full gas.'\n   True: Harmful, Predicted: Not Harmful\n   Confidence: 0.742\n\n46. Text: 'rose's are red violet's are blue little stupid ass bitch i ain't fuckin witchu.'\n   True: Not Harmful, Predicted: Harmful\n   Confidence: 0.886\n\n47. Text: 'pretty much sums up islam.'\n   True: Harmful, Predicted: Not Harmful\n   Confidence: 0.809\n\n48. Text: 'what do they have in common? you enjoy pushing them down the stairs.'\n   True: Harmful, Predicted: Not Harmful\n   Confidence: 0.945\n\n49. Text: 'these aren't people.'\n   True: Harmful, Predicted: Not Harmful\n   Confidence: 0.844\n\n50. Text: 'thanksgiving in china.'\n   True: Harmful, Predicted: Not Harmful\n   Confidence: 0.684\n"
     ]
    }
   ],
   "source": [
    "# Analyze some predictions in detail\n",
    "def analyze_predictions(texts, labels, predictions, probabilities, preprocessor, n_samples=10):\n",
    "    \"\"\"\n",
    "    Analyze model predictions with examples\n",
    "    \"\"\"\n",
    "    print(\"=\"*80)\n",
    "    print(\"SAMPLE PREDICTIONS ANALYSIS\")\n",
    "    print(\"=\"*80)\n",
    "    \n",
    "    # Get indices for different types of predictions\n",
    "    correct_indices = np.where(predictions == labels)[0]\n",
    "    incorrect_indices = np.where(predictions != labels)[0]\n",
    "    \n",
    "    # Show correct predictions\n",
    "    print(\"\\n✅ CORRECT PREDICTIONS (sample):\")\n",
    "    for i, idx in enumerate(correct_indices[:n_samples//2]):\n",
    "        text = texts[idx]\n",
    "        true_label = labels[idx]\n",
    "        pred_label = predictions[idx]\n",
    "        confidence = probabilities[idx][pred_label]\n",
    "        \n",
    "        label_name = \"Harmful\" if true_label == 1 else \"Not Harmful\"\n",
    "        print(f\"\\n{i+1}. Text: '{text[:100]}...' \" if len(text) > 100 else f\"\\n{i+1}. Text: '{text}'\")\n",
    "        print(f\"   True: {label_name}, Predicted: {label_name}\")\n",
    "        print(f\"   Confidence: {confidence:.3f}\")\n",
    "    \n",
    "    # Show incorrect predictions\n",
    "    if len(incorrect_indices) > 0:\n",
    "        print(\"\\n❌ INCORRECT PREDICTIONS (sample):\")\n",
    "        for i, idx in enumerate(incorrect_indices[:n_samples//2]):\n",
    "            text = texts[idx]\n",
    "            true_label = labels[idx]\n",
    "            pred_label = predictions[idx]\n",
    "            confidence = probabilities[idx][pred_label]\n",
    "            \n",
    "            true_name = \"Harmful\" if true_label == 1 else \"Not Harmful\"\n",
    "            pred_name = \"Harmful\" if pred_label == 1 else \"Not Harmful\"\n",
    "            \n",
    "            print(f\"\\n{i+1}. Text: '{text[:100]}...' \" if len(text) > 100 else f\"\\n{i+1}. Text: '{text}'\")\n",
    "            print(f\"   True: {true_name}, Predicted: {pred_name}\")\n",
    "            print(f\"   Confidence: {confidence:.3f}\")\n",
    "\n",
    "# Analyze test set predictions\n",
    "analyze_predictions(test_texts, test_labels, test_predictions, test_probabilities, \n",
    "                   preprocessor, n_samples=100)"
   ]
  },
  {
   "cell_type": "markdown",
   "metadata": {
    "application/vnd.databricks.v1+cell": {
     "cellMetadata": {
      "byteLimit": 2048000,
      "rowLimit": 10000
     },
     "inputWidgets": {},
     "nuid": "14673c36-5803-44a9-a2be-a3f889e5991d",
     "showTitle": false,
     "tableResultSettingsMap": {},
     "title": ""
    }
   },
   "source": [
    "## 13. Final Project Summary & Insights"
   ]
  },
  {
   "cell_type": "code",
   "execution_count": 0,
   "metadata": {
    "application/vnd.databricks.v1+cell": {
     "cellMetadata": {
      "byteLimit": 2048000,
      "rowLimit": 10000
     },
     "inputWidgets": {},
     "nuid": "9337f334-7120-46e5-884b-27b49511cf21",
     "showTitle": false,
     "tableResultSettingsMap": {},
     "title": ""
    }
   },
   "outputs": [
    {
     "output_type": "stream",
     "name": "stdout",
     "output_type": "stream",
     "text": [
      "================================================================================\n\uD83C\uDFAF HARMFUL MEME CLASSIFICATION - PROJECT SUMMARY\n================================================================================\n\uD83D\uDCCA MODEL PERFORMANCE:\n   • Test Accuracy: 58.0%\n   • Test AUC-ROC: 0.585\n   • Model Parameters: 559,394\n   • Training Time: ~8 epochs\n\n\uD83C\uDFD7️ ARCHITECTURE HIGHLIGHTS:\n   • Bidirectional LSTM with 3 layers\n   • Embedding dimension: 64\n   • Hidden dimension: 32\n   • Dropout rate: 0.5 for regularization\n   • Weighted loss for class imbalance handling\n\n\uD83D\uDCDD TEXT PROCESSING INSIGHTS:\n   • Vocabulary size: 7,531 words\n   • Sequence length: 35 tokens\n   • Coverage: ~95% of texts fit in sequence length\n\n⚖️ CLASS IMBALANCE HANDLING:\n   • Original distribution: 64% Not Harmful, 36% Harmful\n   • Used weighted loss function\n   • Balanced sampling during training\n\n\uD83D\uDD0D KEY ACADEMIC CONTRIBUTIONS:\n   1. Sequential modeling for harmful content detection\n   2. Proper handling of class imbalance in text classification\n   3. Bidirectional LSTM for context understanding\n   4. Comprehensive evaluation with multiple metrics\n   5. Analysis of model predictions and errors\n\n\uD83D\uDE80 NEXT STEPS FOR MULTIMODAL INTEGRATION:\n   1. Image feature extraction pipeline\n   2. Multimodal fusion architecture design\n   3. Joint training of text and image branches\n   4. Comparative analysis: Text vs Image vs Multimodal\n\n✅ READY FOR ACADEMIC SUBMISSION:\n   • Proper train/validation/test splits\n   • Reproducible results with fixed random seeds\n   • Academic-quality evaluation methodology\n   • Clear documentation and analysis\n"
     ]
    }
   ],
   "source": [
    "print(\"=\"*80)\n",
    "print(\"\uD83C\uDFAF HARMFUL MEME CLASSIFICATION - PROJECT SUMMARY\")\n",
    "print(\"=\"*80)\n",
    "\n",
    "print(f\"\uD83D\uDCCA MODEL PERFORMANCE:\")\n",
    "print(f\"   • Test Accuracy: {test_accuracy:.1%}\")\n",
    "print(f\"   • Test AUC-ROC: {test_auc:.3f}\")\n",
    "print(f\"   • Model Parameters: {count_parameters(model):,}\")\n",
    "print(f\"   • Training Time: ~{len(train_losses)} epochs\")\n",
    "\n",
    "print(f\"\\n\uD83C\uDFD7️ ARCHITECTURE HIGHLIGHTS:\")\n",
    "print(f\"   • Bidirectional LSTM with {model.num_layers} layers\")\n",
    "print(f\"   • Embedding dimension: {model.embedding.embedding_dim}\")\n",
    "print(f\"   • Hidden dimension: {model.hidden_dim}\")\n",
    "print(f\"   • Dropout rate: 0.5 for regularization\")\n",
    "print(f\"   • Weighted loss for class imbalance handling\")\n",
    "\n",
    "print(f\"\\n\uD83D\uDCDD TEXT PROCESSING INSIGHTS:\")\n",
    "print(f\"   • Vocabulary size: {preprocessor.vocab_size:,} words\")\n",
    "print(f\"   • Sequence length: {preprocessor.max_seq_length} tokens\")\n",
    "print(f\"   • Coverage: ~95% of texts fit in sequence length\")\n",
    "\n",
    "print(f\"\\n⚖️ CLASS IMBALANCE HANDLING:\")\n",
    "print(f\"   • Original distribution: 64% Not Harmful, 36% Harmful\")\n",
    "print(f\"   • Used weighted loss function\")\n",
    "print(f\"   • Balanced sampling during training\")\n",
    "\n",
    "print(f\"\\n\uD83D\uDD0D KEY ACADEMIC CONTRIBUTIONS:\")\n",
    "print(f\"   1. Sequential modeling for harmful content detection\")\n",
    "print(f\"   2. Proper handling of class imbalance in text classification\")\n",
    "print(f\"   3. Bidirectional LSTM for context understanding\")\n",
    "print(f\"   4. Comprehensive evaluation with multiple metrics\")\n",
    "print(f\"   5. Analysis of model predictions and errors\")\n",
    "\n",
    "print(f\"\\n\uD83D\uDE80 NEXT STEPS FOR MULTIMODAL INTEGRATION:\")\n",
    "print(f\"   1. Image feature extraction pipeline\")\n",
    "print(f\"   2. Multimodal fusion architecture design\")\n",
    "print(f\"   3. Joint training of text and image branches\")\n",
    "print(f\"   4. Comparative analysis: Text vs Image vs Multimodal\")\n",
    "\n",
    "print(f\"\\n✅ READY FOR ACADEMIC SUBMISSION:\")\n",
    "print(f\"   • Proper train/validation/test splits\")\n",
    "print(f\"   • Reproducible results with fixed random seeds\") \n",
    "print(f\"   • Academic-quality evaluation methodology\")\n",
    "print(f\"   • Clear documentation and analysis\")"
   ]
  },
  {
   "cell_type": "markdown",
   "metadata": {
    "application/vnd.databricks.v1+cell": {
     "cellMetadata": {
      "byteLimit": 2048000,
      "rowLimit": 10000
     },
     "inputWidgets": {},
     "nuid": "3e598577-ad0b-4abc-918e-3c94e153d425",
     "showTitle": false,
     "tableResultSettingsMap": {},
     "title": ""
    }
   },
   "source": [
    "## 14. Save Model & Preprocessing Pipeline\n",
    "\n",
    "**Ready for integration with your partner's image pipeline!**"
   ]
  },
  {
   "cell_type": "code",
   "execution_count": 0,
   "metadata": {
    "application/vnd.databricks.v1+cell": {
     "cellMetadata": {
      "byteLimit": 2048000,
      "rowLimit": 10000
     },
     "inputWidgets": {},
     "nuid": "0796b2c5-1745-4f69-a2cb-f486943717f4",
     "showTitle": false,
     "tableResultSettingsMap": {},
     "title": ""
    }
   },
   "outputs": [
    {
     "output_type": "stream",
     "name": "stdout",
     "output_type": "stream",
     "text": [
      "HarmfulMemeClassifier(\n  (embedding): Embedding(7531, 64, padding_idx=0)\n  (lstm): LSTM(64, 32, num_layers=3, batch_first=True, dropout=0.7, bidirectional=True)\n  (dropout): Dropout(p=0.7, inplace=False)\n  (fc1): Linear(in_features=64, out_features=32, bias=True)\n  (fc2): Linear(in_features=32, out_features=2, bias=True)\n)\n"
     ]
    }
   ],
   "source": [
    "print(model)"
   ]
  },
  {
   "cell_type": "code",
   "execution_count": 0,
   "metadata": {
    "application/vnd.databricks.v1+cell": {
     "cellMetadata": {
      "byteLimit": 2048000,
      "rowLimit": 10000
     },
     "inputWidgets": {},
     "nuid": "a39c3e59-d6ea-45a3-976c-049c3f77060a",
     "showTitle": false,
     "tableResultSettingsMap": {},
     "title": ""
    }
   },
   "outputs": [],
   "source": [
    "# Save model and preprocessor for later use\n",
    "torch.save({\n",
    "    'model_state_dict': model.state_dict(),\n",
    "    'preprocessor': preprocessor,\n",
    "    'model_config': {\n",
    "        'vocab_size': preprocessor.vocab_size,\n",
    "        'embedding_dim': 64,\n",
    "        'hidden_dim': 32,\n",
    "        'num_layers': 3,\n",
    "        'dropout': 0.7,\n",
    "        'num_classes': 2\n",
    "    },\n",
    "    'test_results': {\n",
    "        'accuracy': test_accuracy,\n",
    "        'auc_roc': test_auc\n",
    "    }\n",
    "}, 'harmful_meme_lstm_model.pth')"
   ]
  }
 ],
 "metadata": {
  "application/vnd.databricks.v1+notebook": {
   "computePreferences": null,
   "dashboards": [],
   "environmentMetadata": null,
   "inputWidgetPreferences": null,
   "language": "python",
   "notebookMetadata": {
    "pythonIndentUnit": 2
   },
   "notebookName": "DL-Harmful-Meme-Text-LSTM",
   "widgets": {}
  },
  "language_info": {
   "name": "python"
  }
 },
 "nbformat": 4,
 "nbformat_minor": 0
}