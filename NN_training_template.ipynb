{
 "cells": [
  {
   "cell_type": "markdown",
   "metadata": {},
   "source": [
    "# Neural Network Training Template (PyTorch)\n",
    "\n",
    "This notebook provides a template for training a neural network using PyTorch.\n",
    "\n",
    "---"
   ]
  },
  {
   "cell_type": "markdown",
   "metadata": {},
   "source": [
    "## 1. Dataset Loading and Preparation"
   ]
  },
  {
   "cell_type": "code",
   "execution_count": 61,
   "metadata": {},
   "outputs": [],
   "source": [
    "import os\n",
    "import re\n",
    "import imutils\n",
    "import pandas as pd\n",
    "import numpy as np\n",
    "import matplotlib.pyplot as plt\n",
    "from torchvision import transforms\n",
    "from torchvision.datasets import ImageFolder\n",
    "from datasets import load_dataset\n",
    "from datasets.dataset_dict import DatasetDict\n",
    "from PIL import Image, ImageOps\n",
    "import pytesseract\n",
    "import cv2\n",
    "import io\n",
    "\n",
    "pytesseract.pytesseract.tesseract_cmd = r'C:\\Program Files\\Tesseract-OCR\\tesseract.exe'\n",
    "os.environ[\"HF_HUB_DISABLE_SYMLINKS_WARNING\"] = \"1\"\n",
    "curr_dir = os.getcwd()\n"
   ]
  },
  {
   "cell_type": "code",
   "execution_count": 2,
   "metadata": {},
   "outputs": [],
   "source": [
    "hugging_face_ds = load_dataset(\"George511242/Facebook_harmeme_dataset\")"
   ]
  },
  {
   "cell_type": "code",
   "execution_count": 3,
   "metadata": {},
   "outputs": [],
   "source": [
    "# Load train and test sets to pandas\n",
    "hugging_face_train_df = hugging_face_ds[\"train\"].to_pandas()\n",
    "hugging_face_test_df = hugging_face_ds[\"test\"].to_pandas()"
   ]
  },
  {
   "cell_type": "code",
   "execution_count": 4,
   "metadata": {},
   "outputs": [],
   "source": [
    "# Convert ID's to numeric\n",
    "hugging_face_train_df[\"id\"] = pd.to_numeric(hugging_face_train_df[\"id\"])\n",
    "hugging_face_test_df[\"id\"] = pd.to_numeric(hugging_face_test_df[\"id\"])"
   ]
  },
  {
   "cell_type": "code",
   "execution_count": 9,
   "metadata": {
    "scrolled": true
   },
   "outputs": [],
   "source": [
    "# Build standard columns for textual prompt and a boolean label weather the content is harmful\n",
    "def build_textual_prompt_object(df):\n",
    "    if 'conversations' in df.columns:\n",
    "        all_conversations = list(df['conversations'])\n",
    "        df['textual_prompt'] = [item[0]['value'] for item in all_conversations]\n",
    "        df['is_harmful'] = [item[1]['value'] for item in all_conversations]\n",
    "        df['is_harmful'] = df['is_harmful'].eq('Yes').mul(True)\n",
    "        \n",
    "build_textual_prompt_object(hugging_face_train_df)\n",
    "build_textual_prompt_object(hugging_face_test_df)"
   ]
  },
  {
   "cell_type": "code",
   "execution_count": 12,
   "metadata": {},
   "outputs": [],
   "source": [
    "def get_image_text(df):\n",
    "    list_image_texts = []\n",
    "    if 'image_text' in df.columns:\n",
    "        return df['image_text']\n",
    "    \n",
    "    for prompt in df['textual_prompt']:\n",
    "        match = re.search(r'The text in the meme is: (.*?)\\.\\n<image>\\n', prompt)\n",
    "        if match:\n",
    "            list_image_texts.append(match.group(1))\n",
    "        else:\n",
    "            list_image_texts.append('')\n",
    "    return list_image_texts\n",
    "\n",
    "hugging_face_train_df['image_text'] = get_image_text(hugging_face_train_df)\n",
    "hugging_face_test_df['image_text'] = get_image_text(hugging_face_test_df)"
   ]
  },
  {
   "cell_type": "code",
   "execution_count": 13,
   "metadata": {},
   "outputs": [],
   "source": [
    "# Save all images bytes in files and save in the dataframe the image path \n",
    "os.makedirs('images', exist_ok=True)\n",
    "\n",
    "def build_images_column(df):\n",
    "    if 'image_path' in df.columns:\n",
    "        return df['image_path']\n",
    "        \n",
    "    list_paths = []\n",
    "    for image in df['image']:\n",
    "        save_path = f'images/{image['path']}'\n",
    "        list_paths.append(save_path)\n",
    "        \n",
    "        if not os.path.exists(save_path):\n",
    "            with open(save_path, 'wb') as f:\n",
    "                f.write(image['bytes'])\n",
    "    return list_paths\n",
    "\n",
    "hugging_face_train_df['image_path'] = build_images_column(hugging_face_train_df)\n",
    "hugging_face_test_df['image_path'] = build_images_column(hugging_face_test_df)"
   ]
  },
  {
   "cell_type": "code",
   "execution_count": 14,
   "metadata": {},
   "outputs": [],
   "source": [
    "# Remove not used columns after being proccesed\n",
    "hugging_face_train_df = hugging_face_train_df.drop(columns=['image', 'conversations'], errors='ignore')\n",
    "hugging_face_test_df = hugging_face_test_df.drop(columns=['image', 'conversations'], errors='ignore')"
   ]
  },
  {
   "cell_type": "code",
   "execution_count": 17,
   "metadata": {},
   "outputs": [
    {
     "data": {
      "text/plain": [
       "'when your human says \"who\\' s a good girl?\" and you already know it\\'s you'"
      ]
     },
     "execution_count": 17,
     "metadata": {},
     "output_type": "execute_result"
    }
   ],
   "source": [
    "hugging_face_train_df.loc[hugging_face_train_df.id == 1243].image_text.values[0]"
   ]
  },
  {
   "cell_type": "code",
   "execution_count": 44,
   "metadata": {},
   "outputs": [
    {
     "name": "stdout",
     "output_type": "stream",
     "text": [
      "image transform: Compose(\n",
      "    Resize(size=(64, 64), interpolation=bilinear, max_size=None, antialias=True)\n",
      "    ToTensor()\n",
      ")\n"
     ]
    }
   ],
   "source": [
    "# Set the desired image size for resizing\n",
    "img_size = 64\n",
    "\n",
    "# Define the image transformations to apply to each image\n",
    "transform = transforms.Compose([\n",
    "    transforms.Resize((img_size, img_size)),\n",
    "    transforms.ToTensor()\n",
    "])\n",
    "\n",
    "print(f\"image transform: {transform}\")"
   ]
  },
  {
   "cell_type": "code",
   "execution_count": 48,
   "metadata": {},
   "outputs": [
    {
     "name": "stdout",
     "output_type": "stream",
     "text": [
      "Complete 100 of 8500 images\n",
      "Complete 200 of 8500 images\n",
      "Complete 300 of 8500 images\n",
      "Complete 400 of 8500 images\n",
      "Complete 500 of 8500 images\n",
      "Complete 600 of 8500 images\n",
      "Complete 700 of 8500 images\n",
      "Complete 800 of 8500 images\n",
      "Complete 900 of 8500 images\n",
      "Complete 1000 of 8500 images\n",
      "Complete 1100 of 8500 images\n",
      "Complete 1200 of 8500 images\n",
      "Complete 1300 of 8500 images\n",
      "Complete 1400 of 8500 images\n",
      "Complete 1500 of 8500 images\n",
      "Complete 1600 of 8500 images\n",
      "Complete 1700 of 8500 images\n",
      "Complete 1800 of 8500 images\n",
      "Complete 1900 of 8500 images\n",
      "Complete 2000 of 8500 images\n",
      "Complete 2100 of 8500 images\n",
      "Complete 2200 of 8500 images\n",
      "Complete 2300 of 8500 images\n",
      "Complete 2400 of 8500 images\n",
      "Complete 2500 of 8500 images\n",
      "Complete 2600 of 8500 images\n",
      "Complete 2700 of 8500 images\n",
      "Complete 2800 of 8500 images\n",
      "Complete 2900 of 8500 images\n",
      "Complete 3000 of 8500 images\n",
      "Complete 3100 of 8500 images\n",
      "Complete 3200 of 8500 images\n",
      "Complete 3300 of 8500 images\n",
      "Complete 3400 of 8500 images\n",
      "Complete 3500 of 8500 images\n",
      "Complete 3600 of 8500 images\n",
      "Complete 3700 of 8500 images\n",
      "Complete 3800 of 8500 images\n",
      "Complete 3900 of 8500 images\n",
      "Complete 4000 of 8500 images\n",
      "Complete 4100 of 8500 images\n",
      "Complete 4200 of 8500 images\n",
      "Complete 4300 of 8500 images\n",
      "Complete 4400 of 8500 images\n",
      "Complete 4500 of 8500 images\n",
      "Complete 4600 of 8500 images\n",
      "Complete 4700 of 8500 images\n",
      "Complete 4800 of 8500 images\n",
      "Complete 4900 of 8500 images\n",
      "Complete 5000 of 8500 images\n",
      "Complete 5100 of 8500 images\n",
      "Complete 5200 of 8500 images\n",
      "Complete 5300 of 8500 images\n",
      "Complete 5400 of 8500 images\n",
      "Complete 5500 of 8500 images\n",
      "Complete 5600 of 8500 images\n",
      "Complete 5700 of 8500 images\n",
      "Complete 5800 of 8500 images\n",
      "Complete 5900 of 8500 images\n",
      "Complete 6000 of 8500 images\n",
      "Complete 6100 of 8500 images\n",
      "Complete 6200 of 8500 images\n",
      "Complete 6300 of 8500 images\n",
      "Complete 6400 of 8500 images\n",
      "Complete 6500 of 8500 images\n",
      "Complete 6600 of 8500 images\n",
      "Complete 6700 of 8500 images\n",
      "Complete 6800 of 8500 images\n",
      "Complete 6900 of 8500 images\n",
      "Complete 7000 of 8500 images\n",
      "Complete 7100 of 8500 images\n",
      "Complete 7200 of 8500 images\n",
      "Complete 7300 of 8500 images\n",
      "Complete 7400 of 8500 images\n",
      "Complete 7500 of 8500 images\n",
      "Complete 7600 of 8500 images\n",
      "Complete 7700 of 8500 images\n",
      "Complete 7800 of 8500 images\n",
      "Complete 7900 of 8500 images\n",
      "Complete 8000 of 8500 images\n",
      "Complete 8100 of 8500 images\n",
      "Complete 8200 of 8500 images\n",
      "Complete 8300 of 8500 images\n",
      "Complete 8400 of 8500 images\n",
      "Complete 8500 of 8500 images\n",
      "Complete 100 of 500 images\n",
      "Complete 200 of 500 images\n",
      "Complete 300 of 500 images\n",
      "Complete 400 of 500 images\n",
      "Complete 500 of 500 images\n"
     ]
    }
   ],
   "source": [
    "def build_image_tensors(df):\n",
    "    if 'image_tensor' in df.columns:\n",
    "        return df['image_tensor']\n",
    "    \n",
    "    image_tensors = []\n",
    "    for i, path in enumerate(df['image_path']):\n",
    "        #print(path)\n",
    "        #break\n",
    "        img = Image.open(path).convert(\"RGB\") # Ensure consistent channel format\n",
    "        tensor_img = transform(img)\n",
    "        image_tensors.append(tensor_img)\n",
    "\n",
    "        if ((i+1) % 100 == 0):\n",
    "            print(f\"Complete {i+1} of {len(df['image_path'])} images\")\n",
    "    return image_tensors\n",
    "\n",
    "hugging_face_train_df['image_tensor'] = build_image_tensors(hugging_face_train_df)\n",
    "hugging_face_test_df['image_tensor'] = build_image_tensors(hugging_face_test_df)"
   ]
  },
  {
   "cell_type": "code",
   "execution_count": 57,
   "metadata": {},
   "outputs": [
    {
     "data": {
      "text/html": [
       "<div>\n",
       "<style scoped>\n",
       "    .dataframe tbody tr th:only-of-type {\n",
       "        vertical-align: middle;\n",
       "    }\n",
       "\n",
       "    .dataframe tbody tr th {\n",
       "        vertical-align: top;\n",
       "    }\n",
       "\n",
       "    .dataframe thead th {\n",
       "        text-align: right;\n",
       "    }\n",
       "</style>\n",
       "<table border=\"1\" class=\"dataframe\">\n",
       "  <thead>\n",
       "    <tr style=\"text-align: right;\">\n",
       "      <th></th>\n",
       "      <th>id</th>\n",
       "      <th>textual_prompt</th>\n",
       "      <th>is_harmful</th>\n",
       "      <th>image_text</th>\n",
       "      <th>image_path</th>\n",
       "      <th>image_tensor</th>\n",
       "    </tr>\n",
       "  </thead>\n",
       "  <tbody>\n",
       "    <tr>\n",
       "      <th>0</th>\n",
       "      <td>1235</td>\n",
       "      <td>A direct or indirect attack on people based on...</td>\n",
       "      <td>True</td>\n",
       "      <td>when you're feeling horny asf but your habibi ...</td>\n",
       "      <td>images/01235.png</td>\n",
       "      <td>[[[tensor(0.6863), tensor(0.7569), tensor(0.76...</td>\n",
       "    </tr>\n",
       "    <tr>\n",
       "      <th>1</th>\n",
       "      <td>1236</td>\n",
       "      <td>A direct or indirect attack on people based on...</td>\n",
       "      <td>False</td>\n",
       "      <td>meanwhile at the isis strip club</td>\n",
       "      <td>images/01236.png</td>\n",
       "      <td>[[[tensor(0.9608), tensor(0.9804), tensor(0.98...</td>\n",
       "    </tr>\n",
       "    <tr>\n",
       "      <th>2</th>\n",
       "      <td>1243</td>\n",
       "      <td>A direct or indirect attack on people based on...</td>\n",
       "      <td>False</td>\n",
       "      <td>when your human says \"who' s a good girl?\" and...</td>\n",
       "      <td>images/01243.png</td>\n",
       "      <td>[[[tensor(0.3569), tensor(0.3922), tensor(0.43...</td>\n",
       "    </tr>\n",
       "    <tr>\n",
       "      <th>3</th>\n",
       "      <td>1245</td>\n",
       "      <td>A direct or indirect attack on people based on...</td>\n",
       "      <td>True</td>\n",
       "      <td>and that was the last nativity play my son was...</td>\n",
       "      <td>images/01245.png</td>\n",
       "      <td>[[[tensor(0.0235), tensor(0.0196), tensor(0.08...</td>\n",
       "    </tr>\n",
       "    <tr>\n",
       "      <th>4</th>\n",
       "      <td>1247</td>\n",
       "      <td>A direct or indirect attack on people based on...</td>\n",
       "      <td>True</td>\n",
       "      <td>you can't be racist if there is no other race</td>\n",
       "      <td>images/01247.png</td>\n",
       "      <td>[[[tensor(0.0863), tensor(0.0980), tensor(0.09...</td>\n",
       "    </tr>\n",
       "  </tbody>\n",
       "</table>\n",
       "</div>"
      ],
      "text/plain": [
       "     id                                     textual_prompt  is_harmful  \\\n",
       "0  1235  A direct or indirect attack on people based on...        True   \n",
       "1  1236  A direct or indirect attack on people based on...       False   \n",
       "2  1243  A direct or indirect attack on people based on...       False   \n",
       "3  1245  A direct or indirect attack on people based on...        True   \n",
       "4  1247  A direct or indirect attack on people based on...        True   \n",
       "\n",
       "                                          image_text        image_path  \\\n",
       "0  when you're feeling horny asf but your habibi ...  images/01235.png   \n",
       "1                   meanwhile at the isis strip club  images/01236.png   \n",
       "2  when your human says \"who' s a good girl?\" and...  images/01243.png   \n",
       "3  and that was the last nativity play my son was...  images/01245.png   \n",
       "4      you can't be racist if there is no other race  images/01247.png   \n",
       "\n",
       "                                        image_tensor  \n",
       "0  [[[tensor(0.6863), tensor(0.7569), tensor(0.76...  \n",
       "1  [[[tensor(0.9608), tensor(0.9804), tensor(0.98...  \n",
       "2  [[[tensor(0.3569), tensor(0.3922), tensor(0.43...  \n",
       "3  [[[tensor(0.0235), tensor(0.0196), tensor(0.08...  \n",
       "4  [[[tensor(0.0863), tensor(0.0980), tensor(0.09...  "
      ]
     },
     "execution_count": 57,
     "metadata": {},
     "output_type": "execute_result"
    }
   ],
   "source": [
    "hugging_face_train_df.head()"
   ]
  },
  {
   "cell_type": "code",
   "execution_count": 58,
   "metadata": {},
   "outputs": [
    {
     "data": {
      "text/html": [
       "<div>\n",
       "<style scoped>\n",
       "    .dataframe tbody tr th:only-of-type {\n",
       "        vertical-align: middle;\n",
       "    }\n",
       "\n",
       "    .dataframe tbody tr th {\n",
       "        vertical-align: top;\n",
       "    }\n",
       "\n",
       "    .dataframe thead th {\n",
       "        text-align: right;\n",
       "    }\n",
       "</style>\n",
       "<table border=\"1\" class=\"dataframe\">\n",
       "  <thead>\n",
       "    <tr style=\"text-align: right;\">\n",
       "      <th></th>\n",
       "      <th>id</th>\n",
       "      <th>textual_prompt</th>\n",
       "      <th>is_harmful</th>\n",
       "      <th>image_text</th>\n",
       "      <th>image_path</th>\n",
       "      <th>image_tensor</th>\n",
       "    </tr>\n",
       "  </thead>\n",
       "  <tbody>\n",
       "    <tr>\n",
       "      <th>0</th>\n",
       "      <td>1268</td>\n",
       "      <td>A direct or indirect attack on people based on...</td>\n",
       "      <td>False</td>\n",
       "      <td>father and daughter bonding time is the best l...</td>\n",
       "      <td>images/01268.png</td>\n",
       "      <td>[[[tensor(0.5922), tensor(0.5922), tensor(0.60...</td>\n",
       "    </tr>\n",
       "    <tr>\n",
       "      <th>1</th>\n",
       "      <td>1456</td>\n",
       "      <td>A direct or indirect attack on people based on...</td>\n",
       "      <td>True</td>\n",
       "      <td>they see them rollin..... they hating..</td>\n",
       "      <td>images/01456.png</td>\n",
       "      <td>[[[tensor(0.6235), tensor(0.1961), tensor(0.29...</td>\n",
       "    </tr>\n",
       "    <tr>\n",
       "      <th>2</th>\n",
       "      <td>1726</td>\n",
       "      <td>A direct or indirect attack on people based on...</td>\n",
       "      <td>True</td>\n",
       "      <td>a real man loads the dishwasher every night</td>\n",
       "      <td>images/01726.png</td>\n",
       "      <td>[[[tensor(0.3569), tensor(0.5255), tensor(0.49...</td>\n",
       "    </tr>\n",
       "    <tr>\n",
       "      <th>3</th>\n",
       "      <td>1742</td>\n",
       "      <td>A direct or indirect attack on people based on...</td>\n",
       "      <td>False</td>\n",
       "      <td>in just one hour from now i'll only have 4 hou...</td>\n",
       "      <td>images/01742.png</td>\n",
       "      <td>[[[tensor(0.6588), tensor(0.6863), tensor(0.78...</td>\n",
       "    </tr>\n",
       "    <tr>\n",
       "      <th>4</th>\n",
       "      <td>1765</td>\n",
       "      <td>A direct or indirect attack on people based on...</td>\n",
       "      <td>True</td>\n",
       "      <td>after a girl dies, what organ in her body stay...</td>\n",
       "      <td>images/01765.png</td>\n",
       "      <td>[[[tensor(0.0784), tensor(0.0863), tensor(0.08...</td>\n",
       "    </tr>\n",
       "  </tbody>\n",
       "</table>\n",
       "</div>"
      ],
      "text/plain": [
       "     id                                     textual_prompt  is_harmful  \\\n",
       "0  1268  A direct or indirect attack on people based on...       False   \n",
       "1  1456  A direct or indirect attack on people based on...        True   \n",
       "2  1726  A direct or indirect attack on people based on...        True   \n",
       "3  1742  A direct or indirect attack on people based on...       False   \n",
       "4  1765  A direct or indirect attack on people based on...        True   \n",
       "\n",
       "                                          image_text        image_path  \\\n",
       "0  father and daughter bonding time is the best l...  images/01268.png   \n",
       "1            they see them rollin..... they hating..  images/01456.png   \n",
       "2        a real man loads the dishwasher every night  images/01726.png   \n",
       "3  in just one hour from now i'll only have 4 hou...  images/01742.png   \n",
       "4  after a girl dies, what organ in her body stay...  images/01765.png   \n",
       "\n",
       "                                        image_tensor  \n",
       "0  [[[tensor(0.5922), tensor(0.5922), tensor(0.60...  \n",
       "1  [[[tensor(0.6235), tensor(0.1961), tensor(0.29...  \n",
       "2  [[[tensor(0.3569), tensor(0.5255), tensor(0.49...  \n",
       "3  [[[tensor(0.6588), tensor(0.6863), tensor(0.78...  \n",
       "4  [[[tensor(0.0784), tensor(0.0863), tensor(0.08...  "
      ]
     },
     "execution_count": 58,
     "metadata": {},
     "output_type": "execute_result"
    }
   ],
   "source": [
    "hugging_face_test_df.head()"
   ]
  },
  {
   "cell_type": "code",
   "execution_count": 87,
   "metadata": {},
   "outputs": [],
   "source": [
    "def plot_class_distribution(df, color, dataset_type):\n",
    "    fig = plt.figure(figsize=(5, 5))\n",
    "    is_harmful = df['is_harmful'].astype(int)\n",
    "    \n",
    "    plt.hist(is_harmful, bins=2, align='left', edgecolor='black', color=color)\n",
    "    plt.xticks([0, 0.5], ['False', 'True'])\n",
    "    plt.xlabel(\"Is Harmful ?\")\n",
    "    plt.ylabel(\"Count\")\n",
    "    plt.title(f\"{dataset_type} dataset\")\n",
    "\n",
    "    plt.show()"
   ]
  },
  {
   "cell_type": "code",
   "execution_count": 88,
   "metadata": {},
   "outputs": [
    {
     "data": {
      "image/png": "[encoded data removed]",
      "text/plain": [
       "<Figure size 500x500 with 1 Axes>"
      ]
     },
     "metadata": {},
     "output_type": "display_data"
    },
    {
     "data": {
      "image/png": "[encoded data removed]",
      "text/plain": [
       "<Figure size 500x500 with 1 Axes>"
      ]
     },
     "metadata": {},
     "output_type": "display_data"
    }
   ],
   "source": [
    "plot_class_distribution(hugging_face_train_df, 'green', 'train')\n",
    "plot_class_distribution(hugging_face_test_df, 'red', 'test')"
   ]
  },
  {
   "cell_type": "markdown",
   "metadata": {},
   "source": [
    "## 2. Neural Network Class (PyTorch)"
   ]
  },
  {
   "cell_type": "code",
   "execution_count": null,
   "metadata": {},
   "outputs": [],
   "source": [
    "import torch.nn as nn\n",
    "import torch.nn.functional as F\n",
    "\n",
    "class SimpleNN(nn.Module):\n",
    "    def __init__(self):\n",
    "        super(SimpleNN, self).__init__()\n",
    "        self.fc1 = nn.Linear(28*28, 128)\n",
    "        self.fc2 = nn.Linear(128, 64)\n",
    "        self.fc3 = nn.Linear(64, 10)\n",
    "    \n",
    "    def forward(self, x):\n",
    "        x = x.view(-1, 28*28)\n",
    "        x = F.relu(self.fc1(x))\n",
    "        x = F.relu(self.fc2(x))\n",
    "        x = self.fc3(x)\n",
    "        return x\n",
    "\n",
    "# Instantiate the model\n",
    "model = SimpleNN()"
   ]
  },
  {
   "cell_type": "markdown",
   "metadata": {},
   "source": [
    "## 3. Training and Evaluation"
   ]
  },
  {
   "cell_type": "code",
   "execution_count": null,
   "metadata": {},
   "outputs": [],
   "source": [
    "import torch.optim as optim\n",
    "\n",
    "criterion = nn.CrossEntropyLoss()\n",
    "optimizer = optim.Adam(model.parameters(), lr=0.001)\n",
    "\n",
    "num_epochs = 5\n",
    "train_losses = []\n",
    "test_accuracies = []\n",
    "\n",
    "for epoch in range(num_epochs):\n",
    "    model.train()\n",
    "    running_loss = 0.0\n",
    "    for data, target in train_loader:\n",
    "        optimizer.zero_grad()\n",
    "        outputs = model(data)\n",
    "        loss = criterion(outputs, target)\n",
    "        loss.backward()\n",
    "        optimizer.step()\n",
    "        running_loss += loss.item()\n",
    "    avg_loss = running_loss / len(train_loader)\n",
    "    train_losses.append(avg_loss)\n",
    "    \n",
    "    # Evaluation\n",
    "    model.eval()\n",
    "    correct = 0\n",
    "    total = 0\n",
    "    with torch.no_grad():\n",
    "        for data, target in test_loader:\n",
    "            outputs = model(data)\n",
    "            _, predicted = torch.max(outputs.data, 1)\n",
    "            total += target.size(0)\n",
    "            correct += (predicted == target).sum().item()\n",
    "    accuracy = 100 * correct / total\n",
    "    test_accuracies.append(accuracy)\n",
    "    print(f'Epoch {epoch+1}/{num_epochs}, Loss: {avg_loss:.4f}, Test Accuracy: {accuracy:.2f}%')"
   ]
  },
  {
   "cell_type": "markdown",
   "metadata": {},
   "source": [
    "## 4. Results Visualization"
   ]
  },
  {
   "cell_type": "code",
   "execution_count": null,
   "metadata": {},
   "outputs": [],
   "source": [
    "plt.figure(figsize=(10,4))\n",
    "plt.subplot(1,2,1)\n",
    "plt.plot(train_losses, label='Training Loss')\n",
    "plt.xlabel('Epoch')\n",
    "plt.ylabel('Loss')\n",
    "plt.title('Training Loss')\n",
    "plt.legend()\n",
    "\n",
    "plt.subplot(1,2,2)\n",
    "plt.plot(test_accuracies, label='Test Accuracy')\n",
    "plt.xlabel('Epoch')\n",
    "plt.ylabel('Accuracy (%)')\n",
    "plt.title('Test Accuracy')\n",
    "plt.legend()\n",
    "plt.show()"
   ]
  }
 ],
 "metadata": {
  "kernelspec": {
   "display_name": "Python 3 (ipykernel)",
   "language": "python",
   "name": "python3"
  },
  "language_info": {
   "codemirror_mode": {
    "name": "ipython",
    "version": 3
   },
   "file_extension": ".py",
   "mimetype": "text/x-python",
   "name": "python",
   "nbconvert_exporter": "python",
   "pygments_lexer": "ipython3",
   "version": "3.13.3"
  }
 },
 "nbformat": 4,
 "nbformat_minor": 4
}
